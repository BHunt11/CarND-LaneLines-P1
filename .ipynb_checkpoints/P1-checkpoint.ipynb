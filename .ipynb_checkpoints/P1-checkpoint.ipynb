{
 "cells": [
  {
   "cell_type": "markdown",
   "metadata": {},
   "source": [
    "# **Finding Lane Lines on the Road** \n",
    "***\n",
    "In this project, you will use the tools you learned about in the lesson to identify lane lines on the road.  You can develop your pipeline on a series of individual images, and later apply the result to a video stream (really just a series of images). Check out the video clip \"raw-lines-example.mp4\" (also contained in this repository) to see what the output should look like after using the helper functions below. \n",
    "\n",
    "Once you have a result that looks roughly like \"raw-lines-example.mp4\", you'll need to get creative and try to average and/or extrapolate the line segments you've detected to map out the full extent of the lane lines.  You can see an example of the result you're going for in the video \"P1_example.mp4\".  Ultimately, you would like to draw just one line for the left side of the lane, and one for the right.\n",
    "\n",
    "---\n",
    "Let's have a look at our first image called 'test_images/solidWhiteRight.jpg'.  Run the 2 cells below (hit Shift-Enter or the \"play\" button above) to display the image.\n",
    "\n",
    "**Note: If, at any point, you encounter frozen display windows or other confounding issues, you can always start again with a clean slate by going to the \"Kernel\" menu above and selecting \"Restart & Clear Output\".**\n",
    "\n",
    "---"
   ]
  },
  {
   "cell_type": "markdown",
   "metadata": {},
   "source": [
    "**The tools you have are color selection, region of interest selection, grayscaling, Gaussian smoothing, Canny Edge Detection and Hough Tranform line detection.  You  are also free to explore and try other techniques that were not presented in the lesson.  Your goal is piece together a pipeline to detect the line segments in the image, then average/extrapolate them and draw them onto the image for display (as below).  Once you have a working pipeline, try it out on the video stream below.**\n",
    "\n",
    "---\n",
    "\n",
    "<figure>\n",
    " <img src=\"line-segments-example.jpg\" width=\"380\" alt=\"Combined Image\" />\n",
    " <figcaption>\n",
    " <p></p> \n",
    " <p style=\"text-align: center;\"> Your output should look something like this (above) after detecting line segments using the helper functions below </p> \n",
    " </figcaption>\n",
    "</figure>\n",
    " <p></p> \n",
    "<figure>\n",
    " <img src=\"laneLines_thirdPass.jpg\" width=\"380\" alt=\"Combined Image\" />\n",
    " <figcaption>\n",
    " <p></p> \n",
    " <p style=\"text-align: center;\"> Your goal is to connect/average/extrapolate line segments to get output like this</p> \n",
    " </figcaption>\n",
    "</figure>"
   ]
  },
  {
   "cell_type": "markdown",
   "metadata": {},
   "source": [
    "**Run the cell below to import some packages.  If you get an `import error` for a package you've already installed, try changing your kernel (select the Kernel menu above --> Change Kernel).  Still have problems?  Try relaunching Jupyter Notebook from the terminal prompt.  Also, see [this forum post](https://carnd-forums.udacity.com/cq/viewquestion.action?spaceKey=CAR&id=29496372&questionTitle=finding-lanes---import-cv2-fails-even-though-python-in-the-terminal-window-has-no-problem-with-import-cv2) for more troubleshooting tips.**  "
   ]
  },
  {
   "cell_type": "code",
   "execution_count": 1,
   "metadata": {
    "collapsed": false
   },
   "outputs": [],
   "source": [
    "#importing some useful packages\n",
    "import matplotlib.pyplot as plt\n",
    "import matplotlib.image as mpimg\n",
    "import numpy as np\n",
    "import cv2\n",
    "%matplotlib inline"
   ]
  },
  {
   "cell_type": "markdown",
   "metadata": {},
   "source": [
    "## Test on Images\n",
    "\n",
    "Now you should build your pipeline to work on the images in the directory \"test_images\"  \n",
    "**You should make sure your pipeline works well on these images before you try the videos.**"
   ]
  },
  {
   "cell_type": "markdown",
   "metadata": {},
   "source": [
    "run your solution on all test_images and make copies into the test_images directory)."
   ]
  },
  {
   "cell_type": "code",
   "execution_count": 16,
   "metadata": {
    "collapsed": false,
    "scrolled": true
   },
   "outputs": [
    {
     "name": "stdout",
     "output_type": "stream",
     "text": [
      "540\n",
      "540\n"
     ]
    },
    {
     "data": {
      "text/plain": [
       "True"
      ]
     },
     "execution_count": 16,
     "metadata": {},
     "output_type": "execute_result"
    },
    {
     "data": {
      "image/png": "[encoded data removed]",
      "text/plain": [
       "<matplotlib.figure.Figure at 0x253853a7518>"
      ]
     },
     "metadata": {},
     "output_type": "display_data"
    }
   ],
   "source": [
    "import matplotlib.pyplot as plt\n",
    "import matplotlib.image as mpimg\n",
    "import numpy as np\n",
    "import cv2\n",
    "import os\n",
    "import csv\n",
    "%matplotlib inline\n",
    "\n",
    "global MASK_Offset_BottomHorizon\n",
    "global MASK_Offset_Horizon\n",
    "global Video_Type\n",
    "\n",
    "## CONSTANTS START\n",
    "# Call type\n",
    "# Gaussian\n",
    "kernel_size = 5 #Result from homework lesson\n",
    "# Canny Edge\n",
    "low_threshold = 25\n",
    "high_threshold = 75\n",
    "# Hough\n",
    "rho = 2\n",
    "theta = np.pi/180\n",
    "threshold = 15\n",
    "min_line_length = 50\n",
    "max_line_gap = 40\n",
    "## CONSTANTS END\n",
    "\n",
    "## INIT START\n",
    "# Masking\n",
    "MASK_Offset_Horizon_Correction = 50\n",
    "MASK_Offset_BotLeft = 50\n",
    "MASK_Offset_BotRight = 50\n",
    "MASK_Offset_TopLeft = 25\n",
    "MASK_Offset_TopRight = 25\n",
    "ignore_mask_color = 255\n",
    "# Image Info\n",
    "image_info = 'test_images/whitecarLaneSwitch.jpg'\n",
    "output_info = 'test_images/OUTPUT_whiteCarLaneSwitch.jpg'\n",
    "## INIT END\n",
    "\n",
    "## Base image info and Masking parameter setup\n",
    "image = cv2.imread(image_info)\n",
    "ysize = image.shape[0]\n",
    "xsize = image.shape[1]\n",
    "MASK_Offset_Horizon = int(ysize / 2 + MASK_Offset_Horizon_Correction)\n",
    "MASK_Offset_BottomHorizon = ysize\n",
    "print(MASK_Offset_BottomHorizon)\n",
    "\n",
    "# print('This image is with dimesions:', image.shape) # Used for testing\n",
    "## GRAYSCALE\n",
    "## Utilize OpenCV for grayscale conversion\n",
    "image_gray = grayscale(image)\n",
    "\n",
    "## GAUSSIAN SMOOTHING\n",
    "## Utilize OpenCV for gaussian smoothing\n",
    "blur_gray = gaussian_blur(image_gray,kernel_size)\n",
    "\n",
    "## CANNY EDGE\n",
    "## Utilize OpenCV for Canny Edge Detection\n",
    "edges = canny(blur_gray,low_threshold,high_threshold)\n",
    "\n",
    "## MASKING\n",
    "## Utilize numpy for init of mask of zero's for targetted image extraction\n",
    "mask = np.zeros_like(edges)\n",
    "\n",
    "## Create four sided polygon array for targetted image extraction\n",
    "vertices = np.array([[(MASK_Offset_BotLeft,MASK_Offset_BottomHorizon),(xsize/2-MASK_Offset_TopLeft,MASK_Offset_Horizon),\n",
    "                      (xsize/2+MASK_Offset_TopRight,MASK_Offset_Horizon),(xsize-MASK_Offset_BotRight, MASK_Offset_BottomHorizon)]],\n",
    "                    dtype=np.int32)\n",
    "cv2.fillPoly(mask,vertices,ignore_mask_color)\n",
    "masked_edges = cv2.bitwise_and(edges,mask)\n",
    "\n",
    "\n",
    "line_image = np.copy(image)*0\n",
    "\n",
    "#hough_out = hough_extrap(masked_edges,rho,theta,threshold,min_line_length,max_line_gap,image)\n",
    "hough_out = hough_lines(masked_edges,rho,theta,threshold,min_line_length,max_line_gap)\n",
    "\n",
    "# hough_gray = grayscale(hough_out)\n",
    "#fl = open('hough_output.csv', 'w')\n",
    "\n",
    "#writer = csv.writer(fl)\n",
    "#for values in hough_gray:\n",
    "#   writer.writerow(values)\n",
    "\n",
    "#fl.close() \n",
    "\n",
    "print(MASK_Offset_BottomHorizon)\n",
    "weighted_out = weighted_img (hough_out,image)\n",
    "plt.imshow(masked_edges)\n",
    "cv2.imwrite(output_info,weighted_out)\n",
    "\n"
   ]
  },
  {
   "cell_type": "markdown",
   "metadata": {},
   "source": [
    "## Test on Videos\n",
    "\n",
    "You know what's cooler than drawing lanes over images? Drawing lanes over video!\n",
    "\n",
    "We can test our solution on two provided videos:\n",
    "\n",
    "`solidWhiteRight.mp4`\n",
    "\n",
    "`solidYellowLeft.mp4`\n",
    "\n",
    "**Note: if you get an `import error` when you run the next cell, try changing your kernel (select the Kernel menu above --> Change Kernel).  Still have problems?  Try relaunching Jupyter Notebook from the terminal prompt. Also, check out [this forum post](https://carnd-forums.udacity.com/questions/22677062/answers/22677109) for more troubleshooting tips.**\n",
    "\n",
    "**If you get an error that looks like this:**\n",
    "```\n",
    "NeedDownloadError: Need ffmpeg exe. \n",
    "You can download it by calling: \n",
    "imageio.plugins.ffmpeg.download()\n",
    "```\n",
    "**Follow the instructions in the error message and check out [this forum post](https://carnd-forums.udacity.com/display/CAR/questions/26218840/import-videofileclip-error) for more troubleshooting tips across operating systems.**"
   ]
  },
  {
   "cell_type": "code",
   "execution_count": 2,
   "metadata": {
    "collapsed": true
   },
   "outputs": [],
   "source": [
    "# Import everything needed to edit/save/watch video clips\n",
    "from moviepy.editor import VideoFileClip\n",
    "from IPython.display import HTML"
   ]
  },
  {
   "cell_type": "code",
   "execution_count": 23,
   "metadata": {
    "collapsed": false
   },
   "outputs": [
    {
     "name": "stderr",
     "output_type": "stream",
     "text": [
      "\n",
      "\n"
     ]
    }
   ],
   "source": [
    "import math\n",
    "\n",
    "def grayscale(img):\n",
    "    \"\"\"Applies the Grayscale transform\n",
    "    This will return an image with only one color channel\n",
    "    but NOTE: to see the returned image as grayscale\n",
    "    (assuming your grayscaled image is called 'gray')\n",
    "    you should call plt.imshow(gray, cmap='gray')\"\"\"\n",
    "    #return cv2.cvtColor(img, cv2.COLOR_RGB2GRAY)\n",
    "    # Or use BGR2GRAY if you read an image with cv2.imread()\n",
    "    return cv2.cvtColor(img, cv2.COLOR_BGR2GRAY)\n",
    "    \n",
    "def canny(img, low_threshold, high_threshold):\n",
    "    \"\"\"Applies the Canny transform\"\"\"\n",
    "    return cv2.Canny(img, low_threshold, high_threshold)\n",
    "\n",
    "def gaussian_blur(img, kernel_size):\n",
    "    \"\"\"Applies a Gaussian Noise kernel\"\"\"\n",
    "    return cv2.GaussianBlur(img, (kernel_size, kernel_size), 0)\n",
    "\n",
    "def create_lines(img, lines, Count, color=[0, 0, 255], thickness=10):\n",
    "    \"\"\"\n",
    "   This function creates extrapolated lines \n",
    "   \n",
    "   !! Note !!\n",
    "   The extrapolation can cause lines to pass beyond the masked scope prior to Hough-Transform\n",
    "   \n",
    "   ?? Masking can be applied again (?) after if needed ??\n",
    "   \n",
    "    \"\"\"\n",
    "    global Right_Line_Filter\n",
    "    global Left_Line_Filter\n",
    "    global Right_Line_Info\n",
    "    global Left_Line_Info\n",
    "    ## Array Initialization\n",
    "    left_lines_info = []\n",
    "    right_lines_info = []\n",
    "    left_lines =[]\n",
    "    right_lines=[]\n",
    "    right_ave = []\n",
    "    left_ave = []\n",
    "    \n",
    "    ## Loop through Hough_Transform Output, create line y=Mx+B information along with line length\n",
    "    for line in lines:\n",
    "        for x1,y1,x2,y2 in line:\n",
    "            slope = (y2-y1)/(x2-x1)\n",
    "            intercept = y1 - slope*x1\n",
    "            line_length = math.hypot(y2 - y1, x2 - x1) #Python math function\n",
    "            # With a slope greater then 0.5, this line will be on the right side of the road from the camera's perspective\n",
    "            if (slope > 0.5):\n",
    "                line_input = (slope,intercept,line_length)\n",
    "                right_lines_info.append(line_input)\n",
    "            # With a slope less then 0.5, this line will be on the left side of the road from the camera's perspective\n",
    "            elif (slope < -0.5):\n",
    "                line_input = (slope,intercept,line_length)\n",
    "                left_lines_info.append(line_input)\n",
    "    \n",
    "    ##Call averaging functions\n",
    "    right_ave = side_average(right_lines_info)\n",
    "    left_ave = side_average(left_lines_info)\n",
    "    #print(\"right\",right_ave)\n",
    "    #print(\"left\",left_ave)\n",
    "    \n",
    "    Line_Averaging(right_ave,left_ave,Count)\n",
    "    \n",
    "    ##Extrapolate lines\n",
    "    Right_Line_Info = (side_line_extrap(Right_Line_Filter))\n",
    "    Left_Line_Info = (side_line_extrap(Left_Line_Filter))\n",
    "    ##Add right and left lines onto the image\n",
    "    #for line in Right_Line_Info:\n",
    "    cv2.line(img, (Right_Line_Info[0],Right_Line_Info[1]), (Right_Line_Info[2], Right_Line_Info[3]), color, thickness)\n",
    "    #for line in Left_Line_Info:\n",
    "    cv2.line(img, (Left_Line_Info[0],Left_Line_Info[1]), (Left_Line_Info[2], Left_Line_Info[3]), color, thickness)\n",
    "\n",
    "\n",
    "def side_average (line_info):\n",
    "    \"\"\"\n",
    "    In this function, a 'sides' lines are averaged\n",
    "    \n",
    "    In this rudimentary averaging application, the hough_transform's output for 'line length'\n",
    "    is utilized for a simple weighting\n",
    "    \n",
    "    \"\"\"\n",
    "    ## Initialize variables\n",
    "    column = 2 #Column index 2 points to line lengths\n",
    "    slope = 0\n",
    "    intercept = 0\n",
    "    ## Sum all line lengths for averaging info\n",
    "    total_length = sum(row[column] for row in line_info)\n",
    "    ## Loop to accumulate averaging slopes and intercepts\n",
    "    for line in line_info:\n",
    "        slope += line[0] *line[2]/total_length\n",
    "        intercept += line[1] * line[2] / total_length\n",
    "    \n",
    "    return (slope,intercept)\n",
    "        \n",
    "def side_line_extrap(line_info):\n",
    "    \"\"\"\n",
    "    Simple function to extrapolate a line segment utilizing the natural borders of the forced horizon\n",
    "    and the bottom of the image\n",
    "    \"\"\"\n",
    "    \n",
    "    ## Initialization\n",
    "    line_out = np.zeros(4)\n",
    "    \n",
    "\n",
    "    ## Find x coords for each two points as y points are simply the forced boundaries\n",
    "    horizon_point_x = int((MASK_Offset_Horizon - line_info[1]) / line_info[0])\n",
    "    bottom_point_x = int((MASK_Offset_BottomHorizon - line_info[1]) / line_info[0])\n",
    "    #append_cheat = [horizon_point_x,MASK_Offset_Horizon,bottom_point_x,MASK_Offset_BottomHorizon] #To simplify append\n",
    "    line_out = (horizon_point_x,MASK_Offset_Horizon,bottom_point_x,MASK_Offset_BottomHorizon)\n",
    "    return line_out\n",
    "    \n",
    "def hough_lines(img, rho, theta, threshold, min_line_len, max_line_gap,Count):\n",
    "    \"\"\"\n",
    "    `img` should be the output of a Canny transform.\n",
    "        \n",
    "    Returns an image with hough lines drawn.\n",
    "    \"\"\"\n",
    "    lines = cv2.HoughLinesP(img, rho, theta, threshold, np.array([]), minLineLength=min_line_len, maxLineGap=max_line_gap)\n",
    "    line_img = np.zeros((img.shape[0], img.shape[1], 3), dtype=np.uint8)\n",
    "    create_lines(line_img, lines,Count)\n",
    "    return line_img\n",
    "\n",
    "# Python 3 has support for cool math symbols.\n",
    "\n",
    "def weighted_img(img, initial_img, α=0.8, β=1., λ=0.):\n",
    "    \"\"\"\n",
    "    `img` is the output of the hough_lines(), An image with lines drawn on it.\n",
    "    Should be a blank image (all black) with lines drawn on it.\n",
    "    \n",
    "    `initial_img` should be the image before any processing.\n",
    "    \n",
    "    The result image is computed as follows:\n",
    "    \n",
    "    initial_img * α + img * β + λ\n",
    "    NOTE: initial_img and img must be the same shape!\n",
    "    \"\"\"\n",
    "    return cv2.addWeighted(initial_img, α, img, β, λ)\n",
    "\n",
    "def Init_Mask(image):\n",
    "    global Left_Line_Mask\n",
    "    global Right_Line_Mask\n",
    "    global MASK_Offset_BottomHorizon\n",
    "    global MASK_Offset_Horizon\n",
    "    \n",
    "    MASK_Offset_Horizon_Correction = 50\n",
    "    MASK_Offset_BotLeft = 50\n",
    "    MASK_Offset_BotRight = 50\n",
    "    MASK_Offset_TopLeft = 50\n",
    "    MASK_Offset_TopRight = 50\n",
    "    MASK_Init_Thickness = 300\n",
    "    ignore_mask_color = 255\n",
    "    \n",
    "\n",
    "\n",
    "    ## Base image info and Masking parameter setup\n",
    "    ysize = image.shape[0]\n",
    "    xsize = image.shape[1]\n",
    "    MASK_Offset_Horizon = int(ysize / 2 + MASK_Offset_Horizon_Correction)\n",
    "    MASK_Offset_BottomHorizon = ysize  \n",
    "    \n",
    "    ## Create four sided polygon array for targetted image extraction\n",
    "    Left_Line_Mask = np.array([[(MASK_Offset_BotLeft,MASK_Offset_BottomHorizon),(xsize/2-MASK_Offset_TopLeft,MASK_Offset_Horizon),\n",
    "                        (xsize/2+MASK_Offset_TopRight,MASK_Offset_Horizon),(MASK_Offset_BotLeft+MASK_Init_Thickness,MASK_Offset_BottomHorizon)]],\n",
    "                        dtype=np.int32)\n",
    "    Right_Line_Mask = np.array([[(xsize-MASK_Offset_BotRight-MASK_Init_Thickness,MASK_Offset_BottomHorizon),(xsize/2-MASK_Offset_TopLeft,MASK_Offset_Horizon),\n",
    "                        (xsize/2+MASK_Offset_TopRight,MASK_Offset_Horizon),(xsize - MASK_Offset_BotRight,MASK_Offset_BottomHorizon)]],\n",
    "                        dtype=np.int32)\n",
    "\n",
    "def Update_Mask():\n",
    "    global Left_Line_Mask\n",
    "    global Right_Line_Mask\n",
    "\n",
    "    MASK_Line_Thickness_Half = 50\n",
    "    numbers = [ int(x) for x in Left_Line_Info ]\n",
    "    placeholder = (numbers[0]-MASK_Line_Thickness_Half,numbers[1],\n",
    "                    numbers[0]+MASK_Line_Thickness_Half,numbers[1],\n",
    "                    numbers[2]-MASK_Line_Thickness_Half,numbers[3],\n",
    "                    numbers[2]+MASK_Line_Thickness_Half,numbers[3])\n",
    "    \n",
    "    Left_Line_Mask = np.array([[(placeholder[0],placeholder[1]),(placeholder[2],placeholder[3]),\n",
    "                               (placeholder[4],placeholder[5]),(placeholder[6],placeholder[7])]],\n",
    "                              dtype=np.int32)\n",
    "    \n",
    "    numbers = [ int(x) for x in Right_Line_Info ]\n",
    "    placeholder = (numbers[0]-MASK_Line_Thickness_Half,numbers[1],\n",
    "                numbers[0]+MASK_Line_Thickness_Half,numbers[1],\n",
    "                numbers[2]-MASK_Line_Thickness_Half,numbers[3],\n",
    "                numbers[2]+MASK_Line_Thickness_Half,numbers[3])\n",
    "    \n",
    "    Right_Line_Mask = np.array([[(placeholder[0],placeholder[1]),(placeholder[2],placeholder[3]),\n",
    "                               (placeholder[4],placeholder[5]),(placeholder[6],placeholder[7])]],\n",
    "                              dtype=np.int32)\n",
    "\n",
    "def Init():\n",
    "    # These are all used for rudimentary learning of lane line placement\n",
    "    global MASK_Offset_BottomHorizon\n",
    "    global MASK_Offset_Horizon\n",
    "    global Left_Line_Filter\n",
    "    global Right_Line_Filter\n",
    "    global Left_Line_Info\n",
    "    global Right_Line_Info\n",
    "    global Left_Line_Mask\n",
    "    global Right_Line_Mask\n",
    "    global Count\n",
    "\n",
    "\n",
    "    ## Global End\n",
    "\n",
    "    ## Init ##\n",
    "    Left_Line_Filter = []\n",
    "    Right_Line_Filter = []\n",
    "\n",
    "    Left_Line_Info = []\n",
    "    Right_Line_Info = []\n",
    "    \n",
    "\n",
    "    Left_Line_Mask = []\n",
    "    Right_Line_Mask = []\n",
    "    \n",
    "def Line_Averaging(Right_Line,Left_Line,Count):\n",
    "    global Right_Line_Filter\n",
    "    global Left_Line_Filter\n",
    "    \n",
    "    if Count <= 6:\n",
    "        Right_Line_Filter = Right_Line\n",
    "        Left_Line_Filter = Left_Line\n",
    "    elif (Right_Line == 0 or Left_Life == 0):\n",
    "        if(Right_Line == 0):\n",
    "            print(\"RFail\")\n",
    "        if (Left_Line == 0):\n",
    "            print(\"LFail\")\n",
    "    else:\n",
    "        Right_Line_Filter =  (np.array(Right_Line) + np.array(Right_Line_Filter)) / 2\n",
    "        Left_Line_Filter =  (np.array(Left_Line) + np.array(Left_Line_Filter)) / 2\n",
    "    return"
   ]
  },
  {
   "cell_type": "code",
   "execution_count": 11,
   "metadata": {
    "collapsed": false
   },
   "outputs": [],
   "source": [
    "def process_image(image):\n",
    "    # NOTE: The output you return should be a color image (3 channel) for processing video below\n",
    "    # TODO: put your pipeline here,\n",
    "    # you should return the final output (image with lines are drawn on lanes)\n",
    "    global MASK_Offset_BottomHorizon\n",
    "    global MASK_Offset_Horizon\n",
    "    global Count\n",
    "    \n",
    "    ## CONSTANTS START\n",
    "    # Gaussian\n",
    "    kernel_size = 5 #Result from homework lesson\n",
    "    # Canny Edge\n",
    "    low_threshold = 25\n",
    "    high_threshold = 75\n",
    "    # Hough\n",
    "    rho = 2\n",
    "    theta = np.pi/180\n",
    "    threshold = 15\n",
    "    min_line_length = 50\n",
    "    max_line_gap = 40\n",
    "    ## CONSTANTS END\n",
    "    ## Count increment\n",
    "    \n",
    "    Count += 1\n",
    "    \n",
    "    ## GRAYSCALE\n",
    "    ## Utilize OpenCV for grayscale conversion\n",
    "    image_gray = grayscale(image)\n",
    "\n",
    "    ## GAUSSIAN SMOOTHING\n",
    "    ## Utilize OpenCV for gaussian smoothing\n",
    "    blur_gray = gaussian_blur(image_gray,kernel_size)\n",
    "\n",
    "    ## CANNY EDGE\n",
    "    ## Utilize OpenCV for Canny Edge Detection\n",
    "    edges = canny(blur_gray,low_threshold,high_threshold)\n",
    "    \n",
    "    ## MASKING\n",
    "    if Count <= 1:\n",
    "        Init()\n",
    "        Init_Mask(edges)\n",
    "    else:\n",
    "        Update_Mask()\n",
    "   \n",
    "        \n",
    "    ## Utilize numpy for init of mask of zero's for targetted image extraction\n",
    "    mask1 = np.zeros_like(edges)\n",
    "    mask2 = np.zeros_like(edges)\n",
    "     \n",
    "    cv2.fillPoly(mask1,Left_Line_Mask,255)\n",
    "    cv2.fillPoly(mask2,Right_Line_Mask,255)\n",
    "    mask3 = cv2.bitwise_or(mask1,mask2)\n",
    "    masked_edges = cv2.bitwise_and(edges,mask3)\n",
    "    line_image = np.copy(image)*0\n",
    "\n",
    "    #hough_out = hough_extrap(masked_edges,rho,theta,threshold,min_line_length,max_line_gap,image)\n",
    "    hough_out = hough_lines(masked_edges,rho,theta,threshold,min_line_length,max_line_gap,Count)\n",
    "\n",
    "    # hough_gray = grayscale(hough_out)\n",
    "    #fl = open('hough_output.csv', 'w')\n",
    "\n",
    "    #writer = csv.writer(fl)\n",
    "    #for values in hough_gray:\n",
    "    #   writer.writerow(values)\n",
    "\n",
    "    #fl.close() \n",
    "\n",
    "\n",
    "    weighted_out = weighted_img (hough_out,image)\n",
    "    \n",
    "    #if (Count > 100):\n",
    "     #   Count = 100\n",
    "    # plt.imshow(weighted_out)\n",
    "    # cv2.imwrite(output_info,weighted_out)\n",
    "    return weighted_out"
   ]
  },
  {
   "cell_type": "markdown",
   "metadata": {},
   "source": [
    "Let's try the one with the solid white lane on the right first ..."
   ]
  },
  {
   "cell_type": "code",
   "execution_count": 49,
   "metadata": {
    "collapsed": true
   },
   "outputs": [
    {
     "name": "stdout",
     "output_type": "stream",
     "text": [
      "1\n",
      "[MoviePy] >>>> Building video white.mp4\n",
      "[MoviePy] Writing video white.mp4\n"
     ]
    },
    {
     "name": "stderr",
     "output_type": "stream",
     "text": [
      "\r",
      "  0%|                                                  | 0/222 [00:00<?, ?it/s]"
     ]
    },
    {
     "name": "stdout",
     "output_type": "stream",
     "text": [
      "2\n",
      "3\n",
      "4\n",
      "5\n"
     ]
    },
    {
     "name": "stderr",
     "output_type": "stream",
     "text": [
      "\r",
      "  2%|▊                                         | 4/222 [00:00<00:06, 35.35it/s]"
     ]
    },
    {
     "name": "stdout",
     "output_type": "stream",
     "text": [
      "6\n",
      "7\n",
      "8\n",
      "9\n"
     ]
    },
    {
     "name": "stderr",
     "output_type": "stream",
     "text": [
      "\r",
      "  4%|█▌                                        | 8/222 [00:00<00:06, 34.09it/s]"
     ]
    },
    {
     "name": "stdout",
     "output_type": "stream",
     "text": [
      "10\n",
      "11\n",
      "12\n",
      "13\n"
     ]
    },
    {
     "name": "stderr",
     "output_type": "stream",
     "text": [
      "\r",
      "  5%|██▏                                      | 12/222 [00:00<00:06, 34.91it/s]"
     ]
    },
    {
     "name": "stdout",
     "output_type": "stream",
     "text": [
      "14\n",
      "15\n",
      "16\n",
      "17\n"
     ]
    },
    {
     "name": "stderr",
     "output_type": "stream",
     "text": [
      "\r",
      "  7%|██▉                                      | 16/222 [00:00<00:05, 35.60it/s]"
     ]
    },
    {
     "name": "stdout",
     "output_type": "stream",
     "text": [
      "18\n",
      "19\n",
      "20\n",
      "21\n"
     ]
    },
    {
     "name": "stderr",
     "output_type": "stream",
     "text": [
      "\r",
      "  9%|███▋                                     | 20/222 [00:00<00:05, 36.20it/s]"
     ]
    },
    {
     "name": "stdout",
     "output_type": "stream",
     "text": [
      "22\n",
      "23\n",
      "24\n",
      "25\n"
     ]
    },
    {
     "name": "stderr",
     "output_type": "stream",
     "text": [
      "\r",
      " 11%|████▍                                    | 24/222 [00:00<00:05, 36.34it/s]"
     ]
    },
    {
     "name": "stdout",
     "output_type": "stream",
     "text": [
      "26\n",
      "27\n",
      "28\n",
      "29\n"
     ]
    },
    {
     "name": "stderr",
     "output_type": "stream",
     "text": [
      "\r",
      " 13%|█████▏                                   | 28/222 [00:00<00:05, 36.04it/s]"
     ]
    },
    {
     "name": "stdout",
     "output_type": "stream",
     "text": [
      "30\n",
      "31\n",
      "32\n",
      "33\n"
     ]
    },
    {
     "name": "stderr",
     "output_type": "stream",
     "text": [
      "\r",
      " 14%|█████▉                                   | 32/222 [00:00<00:05, 36.02it/s]"
     ]
    },
    {
     "name": "stdout",
     "output_type": "stream",
     "text": [
      "34\n",
      "35\n",
      "36\n",
      "37\n"
     ]
    },
    {
     "name": "stderr",
     "output_type": "stream",
     "text": [
      "\r",
      " 16%|██████▋                                  | 36/222 [00:01<00:05, 35.25it/s]"
     ]
    },
    {
     "name": "stdout",
     "output_type": "stream",
     "text": [
      "38\n",
      "39\n",
      "40\n",
      "41\n"
     ]
    },
    {
     "name": "stderr",
     "output_type": "stream",
     "text": [
      "\r",
      " 18%|███████▍                                 | 40/222 [00:01<00:05, 34.82it/s]"
     ]
    },
    {
     "name": "stdout",
     "output_type": "stream",
     "text": [
      "42\n",
      "43\n",
      "44\n",
      "45\n"
     ]
    },
    {
     "name": "stderr",
     "output_type": "stream",
     "text": [
      "\r",
      " 20%|████████▏                                | 44/222 [00:01<00:05, 34.61it/s]"
     ]
    },
    {
     "name": "stdout",
     "output_type": "stream",
     "text": [
      "46\n",
      "47\n",
      "48\n",
      "49\n"
     ]
    },
    {
     "name": "stderr",
     "output_type": "stream",
     "text": [
      "\r",
      " 22%|████████▊                                | 48/222 [00:01<00:05, 32.38it/s]"
     ]
    },
    {
     "name": "stdout",
     "output_type": "stream",
     "text": [
      "50\n",
      "51\n",
      "52\n",
      "53\n"
     ]
    },
    {
     "name": "stderr",
     "output_type": "stream",
     "text": [
      "\r",
      " 23%|█████████▌                               | 52/222 [00:01<00:05, 32.97it/s]"
     ]
    },
    {
     "name": "stdout",
     "output_type": "stream",
     "text": [
      "54\n",
      "55\n",
      "56\n",
      "57\n"
     ]
    },
    {
     "name": "stderr",
     "output_type": "stream",
     "text": [
      "\r",
      " 25%|██████████▎                              | 56/222 [00:01<00:05, 31.58it/s]"
     ]
    },
    {
     "name": "stdout",
     "output_type": "stream",
     "text": [
      "58\n",
      "59\n",
      "60\n",
      "61\n"
     ]
    },
    {
     "name": "stderr",
     "output_type": "stream",
     "text": [
      "\r",
      " 27%|███████████                              | 60/222 [00:01<00:05, 31.77it/s]"
     ]
    },
    {
     "name": "stdout",
     "output_type": "stream",
     "text": [
      "62\n",
      "63\n",
      "64\n",
      "65\n"
     ]
    },
    {
     "name": "stderr",
     "output_type": "stream",
     "text": [
      "\r",
      " 29%|███████████▊                             | 64/222 [00:01<00:05, 30.23it/s]"
     ]
    },
    {
     "name": "stdout",
     "output_type": "stream",
     "text": [
      "66\n",
      "67\n",
      "68\n",
      "69\n"
     ]
    },
    {
     "name": "stderr",
     "output_type": "stream",
     "text": [
      "\r",
      " 31%|████████████▌                            | 68/222 [00:02<00:04, 32.30it/s]"
     ]
    },
    {
     "name": "stdout",
     "output_type": "stream",
     "text": [
      "70\n",
      "71\n",
      "72\n",
      "73\n"
     ]
    },
    {
     "name": "stderr",
     "output_type": "stream",
     "text": [
      "\r",
      " 32%|█████████████▎                           | 72/222 [00:02<00:04, 34.00it/s]"
     ]
    },
    {
     "name": "stdout",
     "output_type": "stream",
     "text": [
      "74\n",
      "75\n",
      "76\n",
      "77\n"
     ]
    },
    {
     "name": "stderr",
     "output_type": "stream",
     "text": [
      "\r",
      " 34%|██████████████                           | 76/222 [00:02<00:04, 35.12it/s]"
     ]
    },
    {
     "name": "stdout",
     "output_type": "stream",
     "text": [
      "78\n",
      "79\n",
      "80\n",
      "81\n",
      "82\n"
     ]
    },
    {
     "name": "stderr",
     "output_type": "stream",
     "text": [
      "\r",
      " 36%|██████████████▉                          | 81/222 [00:02<00:03, 37.34it/s]"
     ]
    },
    {
     "name": "stdout",
     "output_type": "stream",
     "text": [
      "83\n",
      "84\n",
      "85\n",
      "86\n",
      "87\n"
     ]
    },
    {
     "name": "stderr",
     "output_type": "stream",
     "text": [
      "\r",
      " 39%|███████████████▉                         | 86/222 [00:02<00:03, 38.80it/s]"
     ]
    },
    {
     "name": "stdout",
     "output_type": "stream",
     "text": [
      "88\n",
      "89\n",
      "90\n",
      "91\n",
      "92\n"
     ]
    },
    {
     "name": "stderr",
     "output_type": "stream",
     "text": [
      "\r",
      " 41%|████████████████▊                        | 91/222 [00:02<00:03, 40.27it/s]"
     ]
    },
    {
     "name": "stdout",
     "output_type": "stream",
     "text": [
      "93\n",
      "94\n",
      "95\n",
      "96\n",
      "97\n"
     ]
    },
    {
     "name": "stderr",
     "output_type": "stream",
     "text": [
      "\r",
      " 43%|█████████████████▋                       | 96/222 [00:02<00:03, 40.97it/s]"
     ]
    },
    {
     "name": "stdout",
     "output_type": "stream",
     "text": [
      "98\n",
      "99\n",
      "100\n",
      "101\n",
      "102\n"
     ]
    },
    {
     "name": "stderr",
     "output_type": "stream",
     "text": [
      "\r",
      " 45%|██████████████████▏                     | 101/222 [00:02<00:02, 40.86it/s]"
     ]
    },
    {
     "name": "stdout",
     "output_type": "stream",
     "text": [
      "103\n",
      "104\n",
      "105\n",
      "106\n",
      "107\n"
     ]
    },
    {
     "name": "stderr",
     "output_type": "stream",
     "text": [
      "\r",
      " 48%|███████████████████                     | 106/222 [00:02<00:02, 40.98it/s]"
     ]
    },
    {
     "name": "stdout",
     "output_type": "stream",
     "text": [
      "108\n",
      "109\n",
      "110\n",
      "111\n",
      "112\n"
     ]
    },
    {
     "name": "stderr",
     "output_type": "stream",
     "text": [
      "\r",
      " 50%|████████████████████                    | 111/222 [00:03<00:02, 39.79it/s]"
     ]
    },
    {
     "name": "stdout",
     "output_type": "stream",
     "text": [
      "113\n",
      "114\n",
      "115\n",
      "116\n",
      "117\n"
     ]
    },
    {
     "name": "stderr",
     "output_type": "stream",
     "text": [
      "\r",
      " 52%|████████████████████▉                   | 116/222 [00:03<00:02, 39.37it/s]"
     ]
    },
    {
     "name": "stdout",
     "output_type": "stream",
     "text": [
      "118\n",
      "119\n",
      "120\n",
      "121\n"
     ]
    },
    {
     "name": "stderr",
     "output_type": "stream",
     "text": [
      "\r",
      " 54%|█████████████████████▌                  | 120/222 [00:03<00:02, 39.54it/s]"
     ]
    },
    {
     "name": "stdout",
     "output_type": "stream",
     "text": [
      "122\n",
      "123\n",
      "124\n",
      "125\n",
      "126\n"
     ]
    },
    {
     "name": "stderr",
     "output_type": "stream",
     "text": [
      "\r",
      " 56%|██████████████████████▌                 | 125/222 [00:03<00:02, 40.43it/s]"
     ]
    },
    {
     "name": "stdout",
     "output_type": "stream",
     "text": [
      "127\n",
      "128\n",
      "129\n",
      "130\n",
      "131\n"
     ]
    },
    {
     "name": "stderr",
     "output_type": "stream",
     "text": [
      "\r",
      " 59%|███████████████████████▍                | 130/222 [00:03<00:02, 39.62it/s]"
     ]
    },
    {
     "name": "stdout",
     "output_type": "stream",
     "text": [
      "132\n",
      "133\n",
      "134\n",
      "135\n"
     ]
    },
    {
     "name": "stderr",
     "output_type": "stream",
     "text": [
      "\r",
      " 60%|████████████████████████▏               | 134/222 [00:03<00:02, 39.36it/s]"
     ]
    },
    {
     "name": "stdout",
     "output_type": "stream",
     "text": [
      "136\n",
      "137\n",
      "138\n",
      "139\n"
     ]
    },
    {
     "name": "stderr",
     "output_type": "stream",
     "text": [
      "\r",
      " 62%|████████████████████████▊               | 138/222 [00:03<00:02, 39.54it/s]"
     ]
    },
    {
     "name": "stdout",
     "output_type": "stream",
     "text": [
      "140\n",
      "141\n",
      "142\n",
      "143\n"
     ]
    },
    {
     "name": "stderr",
     "output_type": "stream",
     "text": [
      "\r",
      " 64%|█████████████████████████▌              | 142/222 [00:03<00:02, 39.08it/s]"
     ]
    },
    {
     "name": "stdout",
     "output_type": "stream",
     "text": [
      "144\n",
      "145\n",
      "146\n",
      "147\n"
     ]
    },
    {
     "name": "stderr",
     "output_type": "stream",
     "text": [
      "\r",
      " 66%|██████████████████████████▎             | 146/222 [00:03<00:01, 38.32it/s]"
     ]
    },
    {
     "name": "stdout",
     "output_type": "stream",
     "text": [
      "148\n",
      "149\n",
      "150\n",
      "151\n",
      "152\n"
     ]
    },
    {
     "name": "stderr",
     "output_type": "stream",
     "text": [
      "\r",
      " 68%|███████████████████████████▏            | 151/222 [00:04<00:01, 39.62it/s]"
     ]
    },
    {
     "name": "stdout",
     "output_type": "stream",
     "text": [
      "153\n",
      "154\n",
      "155\n",
      "156\n"
     ]
    },
    {
     "name": "stderr",
     "output_type": "stream",
     "text": [
      "\r",
      " 70%|███████████████████████████▉            | 155/222 [00:04<00:01, 39.72it/s]"
     ]
    },
    {
     "name": "stdout",
     "output_type": "stream",
     "text": [
      "157\n",
      "158\n",
      "159\n",
      "160\n"
     ]
    },
    {
     "name": "stderr",
     "output_type": "stream",
     "text": [
      "\r",
      " 72%|████████████████████████████▋           | 159/222 [00:04<00:01, 39.32it/s]"
     ]
    },
    {
     "name": "stdout",
     "output_type": "stream",
     "text": [
      "161\n",
      "162\n",
      "163\n",
      "164\n"
     ]
    },
    {
     "name": "stderr",
     "output_type": "stream",
     "text": [
      "\r",
      " 73%|█████████████████████████████▎          | 163/222 [00:04<00:01, 39.04it/s]"
     ]
    },
    {
     "name": "stdout",
     "output_type": "stream",
     "text": [
      "165\n",
      "166\n",
      "167\n",
      "168\n",
      "169\n"
     ]
    },
    {
     "name": "stderr",
     "output_type": "stream",
     "text": [
      "\r",
      " 76%|██████████████████████████████▎         | 168/222 [00:04<00:01, 39.50it/s]"
     ]
    },
    {
     "name": "stdout",
     "output_type": "stream",
     "text": [
      "170\n",
      "171\n",
      "172\n",
      "173\n"
     ]
    },
    {
     "name": "stderr",
     "output_type": "stream",
     "text": [
      "\r",
      " 77%|██████████████████████████████▉         | 172/222 [00:04<00:01, 39.51it/s]"
     ]
    },
    {
     "name": "stdout",
     "output_type": "stream",
     "text": [
      "174\n",
      "175\n",
      "176\n",
      "177\n"
     ]
    },
    {
     "name": "stderr",
     "output_type": "stream",
     "text": [
      "\r",
      " 79%|███████████████████████████████▋        | 176/222 [00:04<00:01, 39.29it/s]"
     ]
    },
    {
     "name": "stdout",
     "output_type": "stream",
     "text": [
      "178\n",
      "179\n",
      "180\n",
      "181\n"
     ]
    },
    {
     "name": "stderr",
     "output_type": "stream",
     "text": [
      "\r",
      " 81%|████████████████████████████████▍       | 180/222 [00:04<00:01, 38.68it/s]"
     ]
    },
    {
     "name": "stdout",
     "output_type": "stream",
     "text": [
      "182\n",
      "183\n",
      "184\n",
      "185\n",
      "186\n"
     ]
    },
    {
     "name": "stderr",
     "output_type": "stream",
     "text": [
      "\r",
      " 83%|█████████████████████████████████▎      | 185/222 [00:04<00:00, 40.09it/s]"
     ]
    },
    {
     "name": "stdout",
     "output_type": "stream",
     "text": [
      "187\n",
      "188\n",
      "189\n",
      "190\n",
      "191\n"
     ]
    },
    {
     "name": "stderr",
     "output_type": "stream",
     "text": [
      "\r",
      " 86%|██████████████████████████████████▏     | 190/222 [00:05<00:00, 40.34it/s]"
     ]
    },
    {
     "name": "stdout",
     "output_type": "stream",
     "text": [
      "192\n",
      "193\n",
      "194\n",
      "195\n",
      "196\n"
     ]
    },
    {
     "name": "stderr",
     "output_type": "stream",
     "text": [
      "\r",
      " 88%|███████████████████████████████████▏    | 195/222 [00:05<00:00, 40.91it/s]"
     ]
    },
    {
     "name": "stdout",
     "output_type": "stream",
     "text": [
      "197\n",
      "198\n",
      "199\n",
      "200\n",
      "201\n"
     ]
    },
    {
     "name": "stderr",
     "output_type": "stream",
     "text": [
      "\r",
      " 90%|████████████████████████████████████    | 200/222 [00:05<00:00, 37.26it/s]"
     ]
    },
    {
     "name": "stdout",
     "output_type": "stream",
     "text": [
      "202\n",
      "203\n",
      "204\n",
      "205\n"
     ]
    },
    {
     "name": "stderr",
     "output_type": "stream",
     "text": [
      "\r",
      " 92%|████████████████████████████████████▊   | 204/222 [00:05<00:00, 34.66it/s]"
     ]
    },
    {
     "name": "stdout",
     "output_type": "stream",
     "text": [
      "206\n",
      "207\n",
      "208\n",
      "209\n"
     ]
    },
    {
     "name": "stderr",
     "output_type": "stream",
     "text": [
      "\r",
      " 94%|█████████████████████████████████████▍  | 208/222 [00:05<00:00, 33.63it/s]"
     ]
    },
    {
     "name": "stdout",
     "output_type": "stream",
     "text": [
      "210\n",
      "211\n",
      "212\n",
      "213\n"
     ]
    },
    {
     "name": "stderr",
     "output_type": "stream",
     "text": [
      "\r",
      " 95%|██████████████████████████████████████▏ | 212/222 [00:05<00:00, 34.66it/s]"
     ]
    },
    {
     "name": "stdout",
     "output_type": "stream",
     "text": [
      "214\n",
      "215\n",
      "216\n",
      "217\n"
     ]
    },
    {
     "name": "stderr",
     "output_type": "stream",
     "text": [
      "\r",
      " 97%|██████████████████████████████████████▉ | 216/222 [00:05<00:00, 33.47it/s]"
     ]
    },
    {
     "name": "stdout",
     "output_type": "stream",
     "text": [
      "218\n",
      "219\n",
      "220\n",
      "221\n"
     ]
    },
    {
     "name": "stderr",
     "output_type": "stream",
     "text": [
      "\r",
      " 99%|███████████████████████████████████████▋| 220/222 [00:05<00:00, 32.52it/s]"
     ]
    },
    {
     "name": "stdout",
     "output_type": "stream",
     "text": [
      "222\n"
     ]
    },
    {
     "name": "stderr",
     "output_type": "stream",
     "text": [
      "100%|███████████████████████████████████████▊| 221/222 [00:06<00:00, 36.82it/s]\n"
     ]
    },
    {
     "name": "stdout",
     "output_type": "stream",
     "text": [
      "[MoviePy] Done.\n",
      "[MoviePy] >>>> Video ready: white.mp4 \n",
      "\n",
      "Wall time: 6.47 s\n"
     ]
    }
   ],
   "source": [
    "global Count\n",
    "\n",
    "Count = 0\n",
    "\n",
    "white_output = 'white.mp4'\n",
    "clip1 = VideoFileClip(\"solidWhiteRight.mp4\")\n",
    "white_clip = clip1.fl_image(process_image) #NOTE: this function expects color images!!\n",
    "%time white_clip.write_videofile(white_output, audio=False)"
   ]
  },
  {
   "cell_type": "markdown",
   "metadata": {},
   "source": [
    "Play the video inline, or if you prefer find the video in your filesystem (should be in the same directory) and play it in your video player of choice."
   ]
  },
  {
   "cell_type": "code",
   "execution_count": 30,
   "metadata": {
    "collapsed": true
   },
   "outputs": [
    {
     "data": {
      "text/html": [
       "\n",
       "<video width=\"960\" height=\"540\" controls>\n",
       "  <source src=\"white.mp4\">\n",
       "</video>\n"
      ],
      "text/plain": [
       "<IPython.core.display.HTML object>"
      ]
     },
     "execution_count": 30,
     "metadata": {},
     "output_type": "execute_result"
    }
   ],
   "source": [
    "HTML(\"\"\"\n",
    "<video width=\"960\" height=\"540\" controls>\n",
    "  <source src=\"{0}\">\n",
    "</video>\n",
    "\"\"\".format(white_output))"
   ]
  },
  {
   "cell_type": "markdown",
   "metadata": {},
   "source": [
    "**At this point, if you were successful you probably have the Hough line segments drawn onto the road, but what about identifying the full extent of the lane and marking it clearly as in the example video (P1_example.mp4)?  Think about defining a line to run the full length of the visible lane based on the line segments you identified with the Hough Transform.  Modify your draw_lines function accordingly and try re-running your pipeline.**"
   ]
  },
  {
   "cell_type": "markdown",
   "metadata": {},
   "source": [
    "Now for the one with the solid yellow lane on the left. This one's more tricky!"
   ]
  },
  {
   "cell_type": "code",
   "execution_count": 12,
   "metadata": {
    "collapsed": false,
    "scrolled": true
   },
   "outputs": [
    {
     "name": "stdout",
     "output_type": "stream",
     "text": [
      "[MoviePy] >>>> Building video yellow.mp4\n",
      "[MoviePy] Writing video yellow.mp4\n"
     ]
    },
    {
     "name": "stderr",
     "output_type": "stream",
     "text": [
      "\n",
      "\n",
      "  0%|                                                  | 0/682 [00:00<?, ?it/s]\n",
      "\n",
      "  1%|▎                                         | 5/682 [00:00<00:13, 49.63it/s]\n",
      "\n",
      "  2%|▋                                        | 11/682 [00:00<00:12, 52.03it/s]\n",
      "\n",
      "  2%|█                                        | 17/682 [00:00<00:12, 54.01it/s]\n",
      "\n",
      "  3%|█▍                                       | 23/682 [00:00<00:11, 55.40it/s]\n",
      "\n",
      "  4%|█▋                                       | 29/682 [00:00<00:11, 56.19it/s]\n",
      "\n",
      "  5%|██                                       | 35/682 [00:00<00:11, 56.19it/s]\n",
      "\n",
      "  6%|██▍                                      | 41/682 [00:00<00:11, 56.91it/s]\n",
      "\n",
      "  7%|██▊                                      | 47/682 [00:00<00:11, 55.51it/s]\n",
      "\n",
      "  8%|███▏                                     | 53/682 [00:00<00:11, 52.77it/s]\n",
      "\n",
      "  9%|███▌                                     | 59/682 [00:01<00:11, 52.20it/s]\n",
      "\n",
      " 10%|███▉                                     | 65/682 [00:01<00:12, 51.15it/s]\n",
      "\n",
      " 10%|████▎                                    | 71/682 [00:01<00:12, 50.76it/s]\n",
      "\n",
      " 11%|████▋                                    | 77/682 [00:01<00:12, 50.24it/s]\n",
      "\n",
      " 12%|████▉                                    | 82/682 [00:01<00:12, 49.98it/s]\n",
      "\n",
      " 13%|█████▏                                   | 87/682 [00:01<00:11, 49.87it/s]\n",
      "\n",
      " 14%|█████▌                                   | 93/682 [00:01<00:11, 50.38it/s]\n",
      "\n",
      " 15%|█████▉                                   | 99/682 [00:01<00:11, 50.35it/s]\n",
      "\n",
      " 15%|██████▏                                 | 105/682 [00:01<00:11, 50.52it/s]\n",
      "\n",
      " 16%|██████▌                                 | 111/682 [00:02<00:11, 50.52it/s]\n",
      "\n",
      " 17%|██████▊                                 | 117/682 [00:02<00:11, 50.32it/s]\n",
      "\n",
      " 18%|███████▏                                | 123/682 [00:02<00:11, 50.38it/s]\n",
      "\n",
      " 19%|███████▌                                | 129/682 [00:02<00:11, 49.91it/s]\n",
      "\n",
      " 20%|███████▉                                | 135/682 [00:02<00:10, 50.53it/s]\n",
      "\n",
      " 21%|████████▎                               | 141/682 [00:02<00:10, 50.33it/s]\n",
      "\n",
      " 22%|████████▌                               | 147/682 [00:02<00:10, 51.09it/s]\n",
      "\n",
      " 22%|████████▉                               | 153/682 [00:02<00:10, 50.72it/s]\n",
      "\n",
      " 23%|█████████▎                              | 159/682 [00:03<00:10, 50.98it/s]\n",
      "\n",
      " 24%|█████████▋                              | 165/682 [00:03<00:10, 49.88it/s]\n",
      "\n",
      " 25%|█████████▉                              | 170/682 [00:03<00:10, 46.73it/s]\n",
      "\n",
      " 26%|██████████▎                             | 175/682 [00:03<00:10, 46.96it/s]\n",
      "\n",
      " 26%|██████████▌                             | 180/682 [00:03<00:10, 45.76it/s]\n",
      "\n",
      " 27%|██████████▊                             | 185/682 [00:03<00:10, 45.88it/s]\n",
      "\n",
      " 28%|███████████▏                            | 190/682 [00:03<00:10, 45.16it/s]\n",
      "\n",
      " 29%|███████████▍                            | 195/682 [00:03<00:11, 44.19it/s]\n",
      "\n",
      " 29%|███████████▋                            | 200/682 [00:04<00:11, 42.59it/s]\n",
      "\n",
      " 30%|████████████                            | 205/682 [00:04<00:10, 43.89it/s]\n",
      "\n",
      " 31%|████████████▎                           | 210/682 [00:04<00:10, 45.53it/s]\n",
      "\n",
      " 32%|████████████▌                           | 215/682 [00:04<00:10, 46.56it/s]\n",
      "\n",
      " 32%|████████████▉                           | 220/682 [00:04<00:11, 40.60it/s]\n",
      "\n",
      " 33%|█████████████▏                          | 225/682 [00:04<00:13, 35.03it/s]\n",
      "\n",
      " 34%|█████████████▍                          | 230/682 [00:04<00:12, 36.80it/s]\n",
      "\n",
      " 35%|█████████████▊                          | 236/682 [00:04<00:10, 40.55it/s]\n",
      "\n",
      " 35%|██████████████▏                         | 242/682 [00:05<00:10, 43.24it/s]\n",
      "\n",
      " 36%|██████████████▌                         | 248/682 [00:05<00:09, 45.60it/s]\n",
      "\n",
      " 37%|██████████████▊                         | 253/682 [00:05<00:09, 46.22it/s]\n",
      "\n",
      " 38%|███████████████▏                        | 258/682 [00:05<00:09, 46.21it/s]\n",
      "\n",
      " 39%|███████████████▍                        | 264/682 [00:05<00:08, 47.19it/s]\n",
      "\n",
      " 40%|███████████████▊                        | 270/682 [00:05<00:08, 48.37it/s]\n",
      "\n",
      " 40%|████████████████▏                       | 276/682 [00:05<00:08, 49.05it/s]\n",
      "\n",
      " 41%|████████████████▌                       | 282/682 [00:05<00:08, 49.73it/s]\n",
      "\n",
      " 42%|████████████████▉                       | 288/682 [00:05<00:07, 50.27it/s]\n",
      "\n",
      " 43%|█████████████████▏                      | 294/682 [00:06<00:07, 50.03it/s]\n",
      "\n",
      " 44%|█████████████████▌                      | 300/682 [00:06<00:07, 50.61it/s]\n",
      "\n",
      " 45%|█████████████████▉                      | 306/682 [00:06<00:07, 51.30it/s]\n",
      "\n",
      " 46%|██████████████████▎                     | 312/682 [00:06<00:07, 50.99it/s]\n",
      "\n",
      " 47%|██████████████████▋                     | 318/682 [00:06<00:07, 50.97it/s]\n",
      "\n",
      " 48%|███████████████████                     | 324/682 [00:06<00:06, 51.56it/s]\n",
      "\n",
      " 48%|███████████████████▎                    | 330/682 [00:06<00:06, 51.57it/s]\n",
      "\n",
      " 49%|███████████████████▋                    | 336/682 [00:06<00:06, 49.71it/s]\n",
      "\n",
      " 50%|████████████████████                    | 341/682 [00:06<00:07, 47.15it/s]\n",
      "\n",
      " 51%|████████████████████▎                   | 346/682 [00:07<00:07, 44.59it/s]\n",
      "\n",
      " 51%|████████████████████▌                   | 351/682 [00:07<00:07, 44.04it/s]\n",
      "\n",
      " 52%|████████████████████▉                   | 356/682 [00:07<00:07, 44.07it/s]\n",
      "\n",
      " 53%|█████████████████████▏                  | 361/682 [00:07<00:07, 43.92it/s]\n",
      "\n",
      " 54%|█████████████████████▍                  | 366/682 [00:07<00:07, 44.51it/s]\n",
      "\n",
      " 54%|█████████████████████▊                  | 371/682 [00:07<00:07, 43.99it/s]\n",
      "\n",
      " 55%|██████████████████████                  | 376/682 [00:07<00:07, 43.12it/s]\n",
      "\n",
      " 56%|██████████████████████▎                 | 381/682 [00:07<00:06, 43.42it/s]\n",
      "\n",
      " 57%|██████████████████████▋                 | 386/682 [00:08<00:07, 38.48it/s]\n",
      "\n",
      " 57%|██████████████████████▊                 | 390/682 [00:08<00:08, 33.63it/s]\n",
      "\n",
      " 58%|███████████████████████▏                | 395/682 [00:08<00:08, 35.75it/s]\n",
      "\n",
      " 59%|███████████████████████▍                | 400/682 [00:08<00:07, 39.07it/s]\n",
      "\n",
      " 60%|███████████████████████▊                | 406/682 [00:08<00:06, 42.01it/s]\n",
      "\n",
      " 60%|████████████████████████▏               | 412/682 [00:08<00:06, 44.29it/s]\n",
      "\n",
      " 61%|████████████████████████▍               | 417/682 [00:08<00:05, 44.42it/s]\n",
      "\n",
      " 62%|████████████████████████▊               | 422/682 [00:08<00:05, 44.93it/s]\n",
      "\n",
      " 63%|█████████████████████████               | 427/682 [00:09<00:05, 44.57it/s]\n",
      "\n",
      " 63%|█████████████████████████▍              | 433/682 [00:09<00:05, 46.09it/s]\n",
      "\n",
      " 64%|█████████████████████████▋              | 438/682 [00:09<00:05, 45.74it/s]\n",
      "\n",
      " 65%|█████████████████████████▉              | 443/682 [00:09<00:05, 46.00it/s]\n",
      "\n",
      " 66%|██████████████████████████▎             | 448/682 [00:09<00:04, 46.83it/s]\n",
      "\n",
      " 66%|██████████████████████████▌             | 453/682 [00:09<00:04, 46.50it/s]\n",
      "\n",
      " 67%|██████████████████████████▊             | 458/682 [00:09<00:04, 46.34it/s]\n",
      "\n",
      " 68%|███████████████████████████▏            | 463/682 [00:09<00:04, 47.08it/s]\n",
      "\n",
      " 69%|███████████████████████████▍            | 468/682 [00:09<00:04, 47.20it/s]\n",
      "\n",
      " 69%|███████████████████████████▋            | 473/682 [00:10<00:04, 46.24it/s]\n",
      "\n",
      " 70%|████████████████████████████            | 479/682 [00:10<00:04, 47.84it/s]\n",
      "\n",
      " 71%|████████████████████████████▍           | 485/682 [00:10<00:04, 48.85it/s]\n",
      "\n",
      " 72%|████████████████████████████▊           | 491/682 [00:10<00:03, 49.70it/s]\n",
      "\n",
      " 73%|█████████████████████████████           | 496/682 [00:10<00:03, 49.75it/s]\n",
      "\n",
      " 73%|█████████████████████████████▍          | 501/682 [00:10<00:03, 47.99it/s]\n",
      "\n",
      " 74%|█████████████████████████████▋          | 506/682 [00:10<00:03, 47.77it/s]\n",
      "\n",
      " 75%|██████████████████████████████          | 512/682 [00:10<00:03, 48.50it/s]\n",
      "\n",
      " 76%|██████████████████████████████▎         | 517/682 [00:10<00:03, 48.34it/s]\n",
      "\n",
      " 77%|██████████████████████████████▌         | 522/682 [00:11<00:03, 48.15it/s]\n",
      "\n",
      " 77%|██████████████████████████████▉         | 527/682 [00:11<00:03, 47.48it/s]\n",
      "\n",
      " 78%|███████████████████████████████▏        | 532/682 [00:11<00:03, 46.55it/s]\n",
      "\n",
      " 79%|███████████████████████████████▍        | 537/682 [00:11<00:03, 47.50it/s]\n",
      "\n",
      " 79%|███████████████████████████████▊        | 542/682 [00:11<00:02, 47.43it/s]\n",
      "\n",
      " 80%|████████████████████████████████▏       | 548/682 [00:11<00:02, 48.31it/s]\n",
      "\n",
      " 81%|████████████████████████████████▍       | 554/682 [00:11<00:02, 49.31it/s]\n",
      "\n",
      " 82%|████████████████████████████████▊       | 560/682 [00:11<00:02, 49.79it/s]\n",
      "\n",
      " 83%|█████████████████████████████████▏      | 565/682 [00:11<00:02, 48.86it/s]\n",
      "\n",
      " 84%|█████████████████████████████████▍      | 570/682 [00:11<00:02, 49.02it/s]\n",
      "\n",
      " 84%|█████████████████████████████████▋      | 575/682 [00:12<00:02, 48.62it/s]\n",
      "\n",
      " 85%|██████████████████████████████████      | 581/682 [00:12<00:02, 49.11it/s]\n",
      "\n",
      " 86%|██████████████████████████████████▎     | 586/682 [00:12<00:01, 48.33it/s]\n",
      "\n",
      " 87%|██████████████████████████████████▋     | 591/682 [00:12<00:01, 46.99it/s]\n",
      "\n",
      " 87%|██████████████████████████████████▉     | 596/682 [00:12<00:01, 45.47it/s]\n",
      "\n",
      " 88%|███████████████████████████████████▏    | 601/682 [00:12<00:01, 44.76it/s]\n",
      "\n",
      " 89%|███████████████████████████████████▌    | 606/682 [00:12<00:01, 44.57it/s]\n",
      "\n",
      " 90%|███████████████████████████████████▊    | 611/682 [00:12<00:01, 44.32it/s]\n",
      "\n",
      " 90%|████████████████████████████████████▏   | 616/682 [00:13<00:01, 43.91it/s]\n",
      "\n",
      " 91%|████████████████████████████████████▍   | 621/682 [00:13<00:01, 43.86it/s]\n",
      "\n",
      " 92%|████████████████████████████████████▋   | 626/682 [00:13<00:01, 44.83it/s]\n",
      "\n",
      " 93%|█████████████████████████████████████   | 631/682 [00:13<00:01, 45.48it/s]\n",
      "\n",
      " 93%|█████████████████████████████████████▎  | 636/682 [00:13<00:00, 46.13it/s]\n",
      "\n",
      " 94%|█████████████████████████████████████▌  | 641/682 [00:13<00:00, 45.83it/s]\n",
      "\n",
      " 95%|█████████████████████████████████████▉  | 646/682 [00:13<00:00, 45.99it/s]\n",
      "\n",
      " 95%|██████████████████████████████████████▏ | 651/682 [00:13<00:00, 45.48it/s]\n",
      "\n",
      " 96%|██████████████████████████████████████▍ | 656/682 [00:13<00:00, 45.56it/s]\n",
      "\n",
      " 97%|██████████████████████████████████████▊ | 661/682 [00:14<00:00, 45.00it/s]\n",
      "\n",
      " 98%|███████████████████████████████████████ | 666/682 [00:14<00:00, 45.29it/s]\n",
      "\n",
      " 98%|███████████████████████████████████████▎| 671/682 [00:14<00:00, 45.99it/s]\n",
      "\n",
      " 99%|███████████████████████████████████████▋| 676/682 [00:14<00:00, 46.96it/s]\n",
      "\n",
      "100%|███████████████████████████████████████▉| 681/682 [00:14<00:00, 47.05it/s]\n",
      "\n"
     ]
    },
    {
     "name": "stdout",
     "output_type": "stream",
     "text": [
      "[MoviePy] Done.\n",
      "[MoviePy] >>>> Video ready: yellow.mp4 \n",
      "\n",
      "Wall time: 15.1 s\n"
     ]
    }
   ],
   "source": [
    "global Count\n",
    "\n",
    "Count = 0\n",
    "\n",
    "yellow_output = 'yellow.mp4'\n",
    "clip2 = VideoFileClip('solidYellowLeft.mp4')\n",
    "yellow_clip = clip2.fl_image(process_image)\n",
    "%time yellow_clip.write_videofile(yellow_output, audio=False)"
   ]
  },
  {
   "cell_type": "code",
   "execution_count": 14,
   "metadata": {
    "collapsed": false
   },
   "outputs": [
    {
     "data": {
      "text/html": [
       "\n",
       "<video width=\"960\" height=\"540\" controls>\n",
       "  <source src=\"yellow.mp4\">\n",
       "</video>\n"
      ],
      "text/plain": [
       "<IPython.core.display.HTML object>"
      ]
     },
     "execution_count": 14,
     "metadata": {},
     "output_type": "execute_result"
    }
   ],
   "source": [
    "HTML(\"\"\"\n",
    "<video width=\"960\" height=\"540\" controls>\n",
    "  <source src=\"{0}\">\n",
    "</video>\n",
    "\"\"\".format(yellow_output))"
   ]
  },
  {
   "cell_type": "markdown",
   "metadata": {},
   "source": [
    "## Reflections\n",
    "\n",
    "Congratulations on finding the lane lines!  As the final step in this project, we would like you to share your thoughts on your lane finding pipeline... specifically, how could you imagine making your algorithm better / more robust?  Where will your current algorithm be likely to fail?\n",
    "\n",
    "Please add your thoughts below,  and if you're up for making your pipeline more robust, be sure to scroll down and check out the optional challenge video below!\n"
   ]
  },
  {
   "cell_type": "markdown",
   "metadata": {},
   "source": [
    "## Submission\n",
    "\n",
    "If you're satisfied with your video outputs it's time to submit!  Submit this ipython notebook for review.\n"
   ]
  },
  {
   "cell_type": "markdown",
   "metadata": {
    "collapsed": true
   },
   "source": [
    "## Optional Challenge\n",
    "\n",
    "Try your lane finding pipeline on the video below.  Does it still work?  Can you figure out a way to make it more robust?  If you're up for the challenge, modify your pipeline so it works with this video and submit it along with the rest of your project!"
   ]
  },
  {
   "cell_type": "code",
   "execution_count": 24,
   "metadata": {
    "collapsed": false
   },
   "outputs": [
    {
     "ename": "OSError",
     "evalue": "[WinError 6] The handle is invalid",
     "output_type": "error",
     "traceback": [
      "\u001b[0;31m---------------------------------------------------------------------------\u001b[0m",
      "\u001b[0;31mOSError\u001b[0m                                   Traceback (most recent call last)",
      "\u001b[0;32m<ipython-input-24-ec4e9f0a3570>\u001b[0m in \u001b[0;36m<module>\u001b[0;34m()\u001b[0m\n\u001b[1;32m      4\u001b[0m \u001b[1;33m\u001b[0m\u001b[0m\n\u001b[1;32m      5\u001b[0m \u001b[0mchallenge_output\u001b[0m \u001b[1;33m=\u001b[0m \u001b[1;34m'extra.mp4'\u001b[0m\u001b[1;33m\u001b[0m\u001b[0m\n\u001b[0;32m----> 6\u001b[0;31m \u001b[0mclip2\u001b[0m \u001b[1;33m=\u001b[0m \u001b[0mVideoFileClip\u001b[0m\u001b[1;33m(\u001b[0m\u001b[1;34m'challenge.mp4'\u001b[0m\u001b[1;33m)\u001b[0m\u001b[1;33m\u001b[0m\u001b[0m\n\u001b[0m\u001b[1;32m      7\u001b[0m \u001b[0mchallenge_clip\u001b[0m \u001b[1;33m=\u001b[0m \u001b[0mclip2\u001b[0m\u001b[1;33m.\u001b[0m\u001b[0mfl_image\u001b[0m\u001b[1;33m(\u001b[0m\u001b[0mprocess_image\u001b[0m\u001b[1;33m)\u001b[0m\u001b[1;33m\u001b[0m\u001b[0m\n\u001b[1;32m      8\u001b[0m \u001b[0mget_ipython\u001b[0m\u001b[1;33m(\u001b[0m\u001b[1;33m)\u001b[0m\u001b[1;33m.\u001b[0m\u001b[0mmagic\u001b[0m\u001b[1;33m(\u001b[0m\u001b[1;34m'time challenge_clip.write_videofile(challenge_output, audio=False)'\u001b[0m\u001b[1;33m)\u001b[0m\u001b[1;33m\u001b[0m\u001b[0m\n",
      "\u001b[0;32mC:\\Users\\Brian\\Miniconda3\\envs\\carnd-term1\\lib\\site-packages\\moviepy\\video\\io\\VideoFileClip.py\u001b[0m in \u001b[0;36m__init__\u001b[0;34m(self, filename, has_mask, audio, audio_buffersize, audio_fps, audio_nbytes, verbose)\u001b[0m\n\u001b[1;32m     53\u001b[0m         \u001b[1;31m# Make a reader\u001b[0m\u001b[1;33m\u001b[0m\u001b[1;33m\u001b[0m\u001b[0m\n\u001b[1;32m     54\u001b[0m         \u001b[0mpix_fmt\u001b[0m\u001b[1;33m=\u001b[0m \u001b[1;34m\"rgba\"\u001b[0m \u001b[1;32mif\u001b[0m \u001b[0mhas_mask\u001b[0m \u001b[1;32melse\u001b[0m \u001b[1;34m\"rgb24\"\u001b[0m\u001b[1;33m\u001b[0m\u001b[0m\n\u001b[0;32m---> 55\u001b[0;31m         \u001b[0mreader\u001b[0m \u001b[1;33m=\u001b[0m \u001b[0mFFMPEG_VideoReader\u001b[0m\u001b[1;33m(\u001b[0m\u001b[0mfilename\u001b[0m\u001b[1;33m,\u001b[0m \u001b[0mpix_fmt\u001b[0m\u001b[1;33m=\u001b[0m\u001b[0mpix_fmt\u001b[0m\u001b[1;33m)\u001b[0m\u001b[1;33m\u001b[0m\u001b[0m\n\u001b[0m\u001b[1;32m     56\u001b[0m         \u001b[0mself\u001b[0m\u001b[1;33m.\u001b[0m\u001b[0mreader\u001b[0m \u001b[1;33m=\u001b[0m \u001b[0mreader\u001b[0m\u001b[1;33m\u001b[0m\u001b[0m\n\u001b[1;32m     57\u001b[0m         \u001b[1;31m# Make some of the reader's attributes accessible from the clip\u001b[0m\u001b[1;33m\u001b[0m\u001b[1;33m\u001b[0m\u001b[0m\n",
      "\u001b[0;32mC:\\Users\\Brian\\Miniconda3\\envs\\carnd-term1\\lib\\site-packages\\moviepy\\video\\io\\ffmpeg_reader.py\u001b[0m in \u001b[0;36m__init__\u001b[0;34m(self, filename, print_infos, bufsize, pix_fmt, check_duration)\u001b[0m\n\u001b[1;32m     30\u001b[0m \u001b[1;33m\u001b[0m\u001b[0m\n\u001b[1;32m     31\u001b[0m         \u001b[0mself\u001b[0m\u001b[1;33m.\u001b[0m\u001b[0mfilename\u001b[0m \u001b[1;33m=\u001b[0m \u001b[0mfilename\u001b[0m\u001b[1;33m\u001b[0m\u001b[0m\n\u001b[0;32m---> 32\u001b[0;31m         \u001b[0minfos\u001b[0m \u001b[1;33m=\u001b[0m \u001b[0mffmpeg_parse_infos\u001b[0m\u001b[1;33m(\u001b[0m\u001b[0mfilename\u001b[0m\u001b[1;33m,\u001b[0m \u001b[0mprint_infos\u001b[0m\u001b[1;33m,\u001b[0m \u001b[0mcheck_duration\u001b[0m\u001b[1;33m)\u001b[0m\u001b[1;33m\u001b[0m\u001b[0m\n\u001b[0m\u001b[1;32m     33\u001b[0m         \u001b[0mself\u001b[0m\u001b[1;33m.\u001b[0m\u001b[0mfps\u001b[0m \u001b[1;33m=\u001b[0m \u001b[0minfos\u001b[0m\u001b[1;33m[\u001b[0m\u001b[1;34m'video_fps'\u001b[0m\u001b[1;33m]\u001b[0m\u001b[1;33m\u001b[0m\u001b[0m\n\u001b[1;32m     34\u001b[0m         \u001b[0mself\u001b[0m\u001b[1;33m.\u001b[0m\u001b[0msize\u001b[0m \u001b[1;33m=\u001b[0m \u001b[0minfos\u001b[0m\u001b[1;33m[\u001b[0m\u001b[1;34m'video_size'\u001b[0m\u001b[1;33m]\u001b[0m\u001b[1;33m\u001b[0m\u001b[0m\n",
      "\u001b[0;32mC:\\Users\\Brian\\Miniconda3\\envs\\carnd-term1\\lib\\site-packages\\moviepy\\video\\io\\ffmpeg_reader.py\u001b[0m in \u001b[0;36mffmpeg_parse_infos\u001b[0;34m(filename, print_infos, check_duration)\u001b[0m\n\u001b[1;32m    235\u001b[0m         \u001b[0mpopen_params\u001b[0m\u001b[1;33m[\u001b[0m\u001b[1;34m\"creationflags\"\u001b[0m\u001b[1;33m]\u001b[0m \u001b[1;33m=\u001b[0m \u001b[1;36m0x08000000\u001b[0m\u001b[1;33m\u001b[0m\u001b[0m\n\u001b[1;32m    236\u001b[0m \u001b[1;33m\u001b[0m\u001b[0m\n\u001b[0;32m--> 237\u001b[0;31m     \u001b[0mproc\u001b[0m \u001b[1;33m=\u001b[0m \u001b[0msp\u001b[0m\u001b[1;33m.\u001b[0m\u001b[0mPopen\u001b[0m\u001b[1;33m(\u001b[0m\u001b[0mcmd\u001b[0m\u001b[1;33m,\u001b[0m \u001b[1;33m**\u001b[0m\u001b[0mpopen_params\u001b[0m\u001b[1;33m)\u001b[0m\u001b[1;33m\u001b[0m\u001b[0m\n\u001b[0m\u001b[1;32m    238\u001b[0m \u001b[1;33m\u001b[0m\u001b[0m\n\u001b[1;32m    239\u001b[0m     \u001b[0mproc\u001b[0m\u001b[1;33m.\u001b[0m\u001b[0mstdout\u001b[0m\u001b[1;33m.\u001b[0m\u001b[0mreadline\u001b[0m\u001b[1;33m(\u001b[0m\u001b[1;33m)\u001b[0m\u001b[1;33m\u001b[0m\u001b[0m\n",
      "\u001b[0;32mC:\\Users\\Brian\\Miniconda3\\envs\\carnd-term1\\lib\\subprocess.py\u001b[0m in \u001b[0;36m__init__\u001b[0;34m(self, args, bufsize, executable, stdin, stdout, stderr, preexec_fn, close_fds, shell, cwd, env, universal_newlines, startupinfo, creationflags, restore_signals, start_new_session, pass_fds)\u001b[0m\n\u001b[1;32m    840\u001b[0m                  pass_fds=()):\n\u001b[1;32m    841\u001b[0m         \u001b[1;34m\"\"\"Create new Popen instance.\"\"\"\u001b[0m\u001b[1;33m\u001b[0m\u001b[0m\n\u001b[0;32m--> 842\u001b[0;31m         \u001b[0m_cleanup\u001b[0m\u001b[1;33m(\u001b[0m\u001b[1;33m)\u001b[0m\u001b[1;33m\u001b[0m\u001b[0m\n\u001b[0m\u001b[1;32m    843\u001b[0m         \u001b[1;31m# Held while anything is calling waitpid before returncode has been\u001b[0m\u001b[1;33m\u001b[0m\u001b[1;33m\u001b[0m\u001b[0m\n\u001b[1;32m    844\u001b[0m         \u001b[1;31m# updated to prevent clobbering returncode if wait() or poll() are\u001b[0m\u001b[1;33m\u001b[0m\u001b[1;33m\u001b[0m\u001b[0m\n",
      "\u001b[0;32mC:\\Users\\Brian\\Miniconda3\\envs\\carnd-term1\\lib\\subprocess.py\u001b[0m in \u001b[0;36m_cleanup\u001b[0;34m()\u001b[0m\n\u001b[1;32m    503\u001b[0m \u001b[1;32mdef\u001b[0m \u001b[0m_cleanup\u001b[0m\u001b[1;33m(\u001b[0m\u001b[1;33m)\u001b[0m\u001b[1;33m:\u001b[0m\u001b[1;33m\u001b[0m\u001b[0m\n\u001b[1;32m    504\u001b[0m     \u001b[1;32mfor\u001b[0m \u001b[0minst\u001b[0m \u001b[1;32min\u001b[0m \u001b[0m_active\u001b[0m\u001b[1;33m[\u001b[0m\u001b[1;33m:\u001b[0m\u001b[1;33m]\u001b[0m\u001b[1;33m:\u001b[0m\u001b[1;33m\u001b[0m\u001b[0m\n\u001b[0;32m--> 505\u001b[0;31m         \u001b[0mres\u001b[0m \u001b[1;33m=\u001b[0m \u001b[0minst\u001b[0m\u001b[1;33m.\u001b[0m\u001b[0m_internal_poll\u001b[0m\u001b[1;33m(\u001b[0m\u001b[0m_deadstate\u001b[0m\u001b[1;33m=\u001b[0m\u001b[0msys\u001b[0m\u001b[1;33m.\u001b[0m\u001b[0mmaxsize\u001b[0m\u001b[1;33m)\u001b[0m\u001b[1;33m\u001b[0m\u001b[0m\n\u001b[0m\u001b[1;32m    506\u001b[0m         \u001b[1;32mif\u001b[0m \u001b[0mres\u001b[0m \u001b[1;32mis\u001b[0m \u001b[1;32mnot\u001b[0m \u001b[1;32mNone\u001b[0m\u001b[1;33m:\u001b[0m\u001b[1;33m\u001b[0m\u001b[0m\n\u001b[1;32m    507\u001b[0m             \u001b[1;32mtry\u001b[0m\u001b[1;33m:\u001b[0m\u001b[1;33m\u001b[0m\u001b[0m\n",
      "\u001b[0;32mC:\\Users\\Brian\\Miniconda3\\envs\\carnd-term1\\lib\\subprocess.py\u001b[0m in \u001b[0;36m_internal_poll\u001b[0;34m(self, _deadstate, _WaitForSingleObject, _WAIT_OBJECT_0, _GetExitCodeProcess)\u001b[0m\n\u001b[1;32m   1257\u001b[0m             \"\"\"\n\u001b[1;32m   1258\u001b[0m             \u001b[1;32mif\u001b[0m \u001b[0mself\u001b[0m\u001b[1;33m.\u001b[0m\u001b[0mreturncode\u001b[0m \u001b[1;32mis\u001b[0m \u001b[1;32mNone\u001b[0m\u001b[1;33m:\u001b[0m\u001b[1;33m\u001b[0m\u001b[0m\n\u001b[0;32m-> 1259\u001b[0;31m                 \u001b[1;32mif\u001b[0m \u001b[0m_WaitForSingleObject\u001b[0m\u001b[1;33m(\u001b[0m\u001b[0mself\u001b[0m\u001b[1;33m.\u001b[0m\u001b[0m_handle\u001b[0m\u001b[1;33m,\u001b[0m \u001b[1;36m0\u001b[0m\u001b[1;33m)\u001b[0m \u001b[1;33m==\u001b[0m \u001b[0m_WAIT_OBJECT_0\u001b[0m\u001b[1;33m:\u001b[0m\u001b[1;33m\u001b[0m\u001b[0m\n\u001b[0m\u001b[1;32m   1260\u001b[0m                     \u001b[0mself\u001b[0m\u001b[1;33m.\u001b[0m\u001b[0mreturncode\u001b[0m \u001b[1;33m=\u001b[0m \u001b[0m_GetExitCodeProcess\u001b[0m\u001b[1;33m(\u001b[0m\u001b[0mself\u001b[0m\u001b[1;33m.\u001b[0m\u001b[0m_handle\u001b[0m\u001b[1;33m)\u001b[0m\u001b[1;33m\u001b[0m\u001b[0m\n\u001b[1;32m   1261\u001b[0m             \u001b[1;32mreturn\u001b[0m \u001b[0mself\u001b[0m\u001b[1;33m.\u001b[0m\u001b[0mreturncode\u001b[0m\u001b[1;33m\u001b[0m\u001b[0m\n",
      "\u001b[0;31mOSError\u001b[0m: [WinError 6] The handle is invalid"
     ]
    }
   ],
   "source": [
    "global Count\n",
    "\n",
    "Count = 0\n",
    "\n",
    "challenge_output = 'extra.mp4'\n",
    "clip2 = VideoFileClip('challenge.mp4')\n",
    "challenge_clip = clip2.fl_image(process_image)\n",
    "%time challenge_clip.write_videofile(challenge_output, audio=False)"
   ]
  },
  {
   "cell_type": "code",
   "execution_count": 18,
   "metadata": {
    "collapsed": false
   },
   "outputs": [
    {
     "data": {
      "text/html": [
       "\n",
       "<video width=\"960\" height=\"540\" controls>\n",
       "  <source src=\"extra.mp4\">\n",
       "</video>\n"
      ],
      "text/plain": [
       "<IPython.core.display.HTML object>"
      ]
     },
     "execution_count": 18,
     "metadata": {},
     "output_type": "execute_result"
    }
   ],
   "source": [
    "HTML(\"\"\"\n",
    "<video width=\"960\" height=\"540\" controls>\n",
    "  <source src=\"{0}\">\n",
    "</video>\n",
    "\"\"\".format(challenge_output))"
   ]
  },
  {
   "cell_type": "code",
   "execution_count": null,
   "metadata": {
    "collapsed": true
   },
   "outputs": [],
   "source": []
  }
 ],
 "metadata": {
  "anaconda-cloud": {},
  "kernelspec": {
   "display_name": "Python 3",
   "language": "python",
   "name": "python3"
  },
  "language_info": {
   "codemirror_mode": {
    "name": "ipython",
    "version": 3
   },
   "file_extension": ".py",
   "mimetype": "text/x-python",
   "name": "python",
   "nbconvert_exporter": "python",
   "pygments_lexer": "ipython3",
   "version": "3.5.2"
  },
  "widgets": {
   "state": {},
   "version": "1.1.2"
  }
 },
 "nbformat": 4,
 "nbformat_minor": 0
}
