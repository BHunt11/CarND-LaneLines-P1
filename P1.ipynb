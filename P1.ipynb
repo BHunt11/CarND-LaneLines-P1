{
 "cells": [
  {
   "cell_type": "markdown",
   "metadata": {},
   "source": [
    "# **Finding Lane Lines on the Road** \n",
    "***\n",
    "In this project, you will use the tools you learned about in the lesson to identify lane lines on the road.  You can develop your pipeline on a series of individual images, and later apply the result to a video stream (really just a series of images). Check out the video clip \"raw-lines-example.mp4\" (also contained in this repository) to see what the output should look like after using the helper functions below. \n",
    "\n",
    "Once you have a result that looks roughly like \"raw-lines-example.mp4\", you'll need to get creative and try to average and/or extrapolate the line segments you've detected to map out the full extent of the lane lines.  You can see an example of the result you're going for in the video \"P1_example.mp4\".  Ultimately, you would like to draw just one line for the left side of the lane, and one for the right.\n",
    "\n",
    "---\n",
    "Let's have a look at our first image called 'test_images/solidWhiteRight.jpg'.  Run the 2 cells below (hit Shift-Enter or the \"play\" button above) to display the image.\n",
    "\n",
    "**Note: If, at any point, you encounter frozen display windows or other confounding issues, you can always start again with a clean slate by going to the \"Kernel\" menu above and selecting \"Restart & Clear Output\".**\n",
    "\n",
    "---"
   ]
  },
  {
   "cell_type": "markdown",
   "metadata": {},
   "source": [
    "**The tools you have are color selection, region of interest selection, grayscaling, Gaussian smoothing, Canny Edge Detection and Hough Tranform line detection.  You  are also free to explore and try other techniques that were not presented in the lesson.  Your goal is piece together a pipeline to detect the line segments in the image, then average/extrapolate them and draw them onto the image for display (as below).  Once you have a working pipeline, try it out on the video stream below.**\n",
    "\n",
    "---\n",
    "\n",
    "<figure>\n",
    " <img src=\"line-segments-example.jpg\" width=\"380\" alt=\"Combined Image\" />\n",
    " <figcaption>\n",
    " <p></p> \n",
    " <p style=\"text-align: center;\"> Your output should look something like this (above) after detecting line segments using the helper functions below </p> \n",
    " </figcaption>\n",
    "</figure>\n",
    " <p></p> \n",
    "<figure>\n",
    " <img src=\"laneLines_thirdPass.jpg\" width=\"380\" alt=\"Combined Image\" />\n",
    " <figcaption>\n",
    " <p></p> \n",
    " <p style=\"text-align: center;\"> Your goal is to connect/average/extrapolate line segments to get output like this</p> \n",
    " </figcaption>\n",
    "</figure>"
   ]
  },
  {
   "cell_type": "markdown",
   "metadata": {},
   "source": [
    "**Run the cell below to import some packages.  If you get an `import error` for a package you've already installed, try changing your kernel (select the Kernel menu above --> Change Kernel).  Still have problems?  Try relaunching Jupyter Notebook from the terminal prompt.  Also, see [this forum post](https://carnd-forums.udacity.com/cq/viewquestion.action?spaceKey=CAR&id=29496372&questionTitle=finding-lanes---import-cv2-fails-even-though-python-in-the-terminal-window-has-no-problem-with-import-cv2) for more troubleshooting tips.**  "
   ]
  },
  {
   "cell_type": "code",
   "execution_count": 1,
   "metadata": {
    "collapsed": false
   },
   "outputs": [],
   "source": [
    "#importing some useful packages\n",
    "import matplotlib.pyplot as plt\n",
    "import matplotlib.image as mpimg\n",
    "import numpy as np\n",
    "import cv2\n",
    "import statistics\n",
    "%matplotlib inline"
   ]
  },
  {
   "cell_type": "markdown",
   "metadata": {},
   "source": [
    "## Test on Images\n",
    "\n",
    "Now you should build your pipeline to work on the images in the directory \"test_images\"  \n",
    "**You should make sure your pipeline works well on these images before you try the videos.**"
   ]
  },
  {
   "cell_type": "markdown",
   "metadata": {},
   "source": [
    "run your solution on all test_images and make copies into the test_images directory)."
   ]
  },
  {
   "cell_type": "code",
   "execution_count": 16,
   "metadata": {
    "collapsed": false,
    "scrolled": true
   },
   "outputs": [
    {
     "name": "stdout",
     "output_type": "stream",
     "text": [
      "540\n",
      "540\n"
     ]
    },
    {
     "data": {
      "text/plain": [
       "True"
      ]
     },
     "execution_count": 16,
     "metadata": {},
     "output_type": "execute_result"
    },
    {
     "data": {
      "image/png": "[encoded data removed]",
      "text/plain": [
       "<matplotlib.figure.Figure at 0x253853a7518>"
      ]
     },
     "metadata": {},
     "output_type": "display_data"
    }
   ],
   "source": [
    "import matplotlib.pyplot as plt\n",
    "import matplotlib.image as mpimg\n",
    "import numpy as np\n",
    "import cv2\n",
    "import os\n",
    "import csv\n",
    "%matplotlib inline\n",
    "\n",
    "global MASK_Offset_BottomHorizon\n",
    "global MASK_Offset_Horizon\n",
    "global Video_Type\n",
    "\n",
    "## CONSTANTS START\n",
    "# Call type\n",
    "# Gaussian\n",
    "kernel_size = 5 #Result from homework lesson\n",
    "# Canny Edge\n",
    "low_threshold = 25\n",
    "high_threshold = 75\n",
    "# Hough\n",
    "rho = 2\n",
    "theta = np.pi/180\n",
    "threshold = 15\n",
    "min_line_length = 50\n",
    "max_line_gap = 40\n",
    "## CONSTANTS END\n",
    "\n",
    "## INIT START\n",
    "# Masking\n",
    "MASK_Offset_Horizon_Correction = 50\n",
    "MASK_Offset_BotLeft = 50\n",
    "MASK_Offset_BotRight = 50\n",
    "MASK_Offset_TopLeft = 25\n",
    "MASK_Offset_TopRight = 25\n",
    "ignore_mask_color = 255\n",
    "# Image Info\n",
    "image_info = 'test_images/whitecarLaneSwitch.jpg'\n",
    "output_info = 'test_images/OUTPUT_whiteCarLaneSwitch.jpg'\n",
    "## INIT END\n",
    "\n",
    "## Base image info and Masking parameter setup\n",
    "image = cv2.imread(image_info)\n",
    "ysize = image.shape[0]\n",
    "xsize = image.shape[1]\n",
    "MASK_Offset_Horizon = int(ysize / 2 + MASK_Offset_Horizon_Correction)\n",
    "MASK_Offset_BottomHorizon = ysize\n",
    "print(MASK_Offset_BottomHorizon)\n",
    "\n",
    "# print('This image is with dimesions:', image.shape) # Used for testing\n",
    "## GRAYSCALE\n",
    "## Utilize OpenCV for grayscale conversion\n",
    "image_gray = grayscale(image)\n",
    "\n",
    "## GAUSSIAN SMOOTHING\n",
    "## Utilize OpenCV for gaussian smoothing\n",
    "blur_gray = gaussian_blur(image_gray,kernel_size)\n",
    "\n",
    "## CANNY EDGE\n",
    "## Utilize OpenCV for Canny Edge Detection\n",
    "edges = canny(blur_gray,low_threshold,high_threshold)\n",
    "\n",
    "## MASKING\n",
    "## Utilize numpy for init of mask of zero's for targetted image extraction\n",
    "mask = np.zeros_like(edges)\n",
    "\n",
    "## Create four sided polygon array for targetted image extraction\n",
    "vertices = np.array([[(MASK_Offset_BotLeft,MASK_Offset_BottomHorizon),(xsize/2-MASK_Offset_TopLeft,MASK_Offset_Horizon),\n",
    "                      (xsize/2+MASK_Offset_TopRight,MASK_Offset_Horizon),(xsize-MASK_Offset_BotRight, MASK_Offset_BottomHorizon)]],\n",
    "                    dtype=np.int32)\n",
    "cv2.fillPoly(mask,vertices,ignore_mask_color)\n",
    "masked_edges = cv2.bitwise_and(edges,mask)\n",
    "\n",
    "\n",
    "line_image = np.copy(image)*0\n",
    "\n",
    "#hough_out = hough_extrap(masked_edges,rho,theta,threshold,min_line_length,max_line_gap,image)\n",
    "hough_out = hough_lines(masked_edges,rho,theta,threshold,min_line_length,max_line_gap)\n",
    "\n",
    "# hough_gray = grayscale(hough_out)\n",
    "#fl = open('hough_output.csv', 'w')\n",
    "\n",
    "#writer = csv.writer(fl)\n",
    "#for values in hough_gray:\n",
    "#   writer.writerow(values)\n",
    "\n",
    "#fl.close() \n",
    "\n",
    "print(MASK_Offset_BottomHorizon)\n",
    "weighted_out = weighted_img (hough_out,image)\n",
    "plt.imshow(masked_edges)\n",
    "cv2.imwrite(output_info,weighted_out)\n",
    "\n"
   ]
  },
  {
   "cell_type": "markdown",
   "metadata": {},
   "source": [
    "## Test on Videos\n",
    "\n",
    "You know what's cooler than drawing lanes over images? Drawing lanes over video!\n",
    "\n",
    "We can test our solution on two provided videos:\n",
    "\n",
    "`solidWhiteRight.mp4`\n",
    "\n",
    "`solidYellowLeft.mp4`\n",
    "\n",
    "**Note: if you get an `import error` when you run the next cell, try changing your kernel (select the Kernel menu above --> Change Kernel).  Still have problems?  Try relaunching Jupyter Notebook from the terminal prompt. Also, check out [this forum post](https://carnd-forums.udacity.com/questions/22677062/answers/22677109) for more troubleshooting tips.**\n",
    "\n",
    "**If you get an error that looks like this:**\n",
    "```\n",
    "NeedDownloadError: Need ffmpeg exe. \n",
    "You can download it by calling: \n",
    "imageio.plugins.ffmpeg.download()\n",
    "```\n",
    "**Follow the instructions in the error message and check out [this forum post](https://carnd-forums.udacity.com/display/CAR/questions/26218840/import-videofileclip-error) for more troubleshooting tips across operating systems.**"
   ]
  },
  {
   "cell_type": "code",
   "execution_count": 2,
   "metadata": {
    "collapsed": true
   },
   "outputs": [],
   "source": [
    "# Import everything needed to edit/save/watch video clips\n",
    "from moviepy.editor import VideoFileClip\n",
    "from IPython.display import HTML"
   ]
  },
  {
   "cell_type": "code",
   "execution_count": 17,
   "metadata": {
    "collapsed": false
   },
   "outputs": [],
   "source": [
    "import math\n",
    "\n",
    "def grayscale(img):\n",
    "    \"\"\"Applies the Grayscale transform\n",
    "    This will return an image with only one color channel\n",
    "    but NOTE: to see the returned image as grayscale\n",
    "    (assuming your grayscaled image is called 'gray')\n",
    "    you should call plt.imshow(gray, cmap='gray')\"\"\"\n",
    "    #return cv2.cvtColor(img, cv2.COLOR_RGB2GRAY)\n",
    "    # Or use BGR2GRAY if you read an image with cv2.imread()\n",
    "    return cv2.cvtColor(img, cv2.COLOR_BGR2GRAY)\n",
    "    \n",
    "def canny(img, low_threshold, high_threshold):\n",
    "    \"\"\"Applies the Canny transform\"\"\"\n",
    "    return cv2.Canny(img, low_threshold, high_threshold)\n",
    "\n",
    "def gaussian_blur(img, kernel_size):\n",
    "    \"\"\"Applies a Gaussian Noise kernel\"\"\"\n",
    "    return cv2.GaussianBlur(img, (kernel_size, kernel_size), 0)\n",
    "\n",
    "def create_lines(img, lines, Count, color=[0, 0, 255], thickness=10):\n",
    "    \"\"\"\n",
    "   This function creates extrapolated lines \n",
    "   \n",
    "   !! Note !!\n",
    "   The extrapolation can cause lines to pass beyond the masked scope prior to Hough-Transform\n",
    "   \n",
    "   ?? Masking can be applied again (?) after if needed ??\n",
    "   \n",
    "    \"\"\"\n",
    "    global Right_Line_Filter\n",
    "    global Left_Line_Filter\n",
    "    global Right_Line_Info\n",
    "    global Left_Line_Info\n",
    "    ## Array Initialization\n",
    "    left_lines_info = []\n",
    "    right_lines_info = []\n",
    "    left_lines =[]\n",
    "    right_lines=[]\n",
    "    right_ave = []\n",
    "    left_ave = []\n",
    "    \n",
    "    ## Loop through Hough_Transform Output, create line y=Mx+B information along with line length\n",
    "    for line in lines:\n",
    "        for x1,y1,x2,y2 in line:\n",
    "            slope = (y2-y1)/(x2-x1)\n",
    "            intercept = y1 - slope*x1\n",
    "            line_length = math.hypot(y2 - y1, x2 - x1) #Python math function\n",
    "            # With a slope greater then 0.5, this line will be on the right side of the road from the camera's perspective\n",
    "            if (slope > 0.5 and slope):\n",
    "                line_input = (slope,intercept,line_length)\n",
    "                right_lines_info.append(line_input)\n",
    "            # With a slope less then 0.5, this line will be on the left side of the road from the camera's perspective\n",
    "            elif (slope < -0.5):\n",
    "                line_input = (slope,intercept,line_length)\n",
    "                left_lines_info.append(line_input)\n",
    "    \n",
    "    ##Call averaging functions\n",
    "    right_ave = side_average(right_lines_info)\n",
    "    left_ave = side_average(left_lines_info)\n",
    "    #print(\"right\",right_ave)\n",
    "    #print(\"left\",left_ave)\n",
    "\n",
    "    Line_Averaging(right_ave,left_ave,Count)\n",
    "\n",
    "    \n",
    "    ##Extrapolate lines\n",
    "    Right_Line_Info = (side_line_extrap(Right_Line_Filter))\n",
    "    Left_Line_Info = (side_line_extrap(Left_Line_Filter))\n",
    "    ##Add right and left lines onto the image\n",
    "    #for line in Right_Line_Info:\n",
    "    cv2.line(img, (Right_Line_Info[0],Right_Line_Info[1]), (Right_Line_Info[2], Right_Line_Info[3]), color, thickness)\n",
    "    #for line in Left_Line_Info:\n",
    "    cv2.line(img, (Left_Line_Info[0],Left_Line_Info[1]), (Left_Line_Info[2], Left_Line_Info[3]), color, thickness)\n",
    "\n",
    "\n",
    "def side_average (line_info):\n",
    "    \"\"\"\n",
    "    In this function, a 'sides' lines are averaged\n",
    "    \n",
    "    In this rudimentary averaging application, the hough_transform's output for 'line length'\n",
    "    is utilized for a simple weighting\n",
    "    \n",
    "    \"\"\"\n",
    "    ## Initialize variables\n",
    "    column = 2 #Column index 2 points to line lengths\n",
    "    slope = 0\n",
    "    intercept = 0\n",
    "    ## Sum all line lengths for averaging info\n",
    "    total_length = sum(row[column] for row in line_info)\n",
    "    ## Loop to accumulate averaging slopes and intercepts\n",
    "    for line in line_info:\n",
    "        slope += line[0] *line[2]/total_length\n",
    "        intercept += line[1] * line[2] / total_length\n",
    "    \n",
    "    return (slope,intercept)\n",
    "        \n",
    "def side_line_extrap(line_info):\n",
    "    \"\"\"\n",
    "    Simple function to extrapolate a line segment utilizing the natural borders of the forced horizon\n",
    "    and the bottom of the image\n",
    "    \"\"\"\n",
    "    \n",
    "    ## Initialization\n",
    "    line_out = np.zeros(4)\n",
    "    \n",
    "\n",
    "    ## Find x coords for each two points as y points are simply the forced boundaries\n",
    "    horizon_point_x = int((MASK_Offset_Horizon - line_info[1]) / line_info[0])\n",
    "    bottom_point_x = int((MASK_Offset_BottomHorizon - line_info[1]) / line_info[0])\n",
    "    #append_cheat = [horizon_point_x,MASK_Offset_Horizon,bottom_point_x,MASK_Offset_BottomHorizon] #To simplify append\n",
    "    line_out = (horizon_point_x,MASK_Offset_Horizon,bottom_point_x,MASK_Offset_BottomHorizon)\n",
    "    return line_out\n",
    "    \n",
    "def hough_lines(img, rho, theta, threshold, min_line_len, max_line_gap,Count):\n",
    "    \"\"\"\n",
    "    `img` should be the output of a Canny transform.\n",
    "        \n",
    "    Returns an image with hough lines drawn.\n",
    "    \"\"\"\n",
    "    lines = cv2.HoughLinesP(img, rho, theta, threshold, np.array([]), minLineLength=min_line_len, maxLineGap=max_line_gap)\n",
    "    line_img = np.zeros((img.shape[0], img.shape[1], 3), dtype=np.uint8)\n",
    "    create_lines(line_img, lines,Count)\n",
    "    return line_img\n",
    "\n",
    "# Python 3 has support for cool math symbols.\n",
    "\n",
    "def weighted_img(img, initial_img, α=0.8, β=1., λ=0.):\n",
    "    \"\"\"\n",
    "    `img` is the output of the hough_lines(), An image with lines drawn on it.\n",
    "    Should be a blank image (all black) with lines drawn on it.\n",
    "    \n",
    "    `initial_img` should be the image before any processing.\n",
    "    \n",
    "    The result image is computed as follows:\n",
    "    \n",
    "    initial_img * α + img * β + λ\n",
    "    NOTE: initial_img and img must be the same shape!\n",
    "    \"\"\"\n",
    "    return cv2.addWeighted(initial_img, α, img, β, λ)\n",
    "\n",
    "def Init_Mask(image):\n",
    "    global Left_Line_Mask\n",
    "    global Right_Line_Mask\n",
    "    global MASK_Offset_BottomHorizon\n",
    "    global MASK_Offset_Horizon\n",
    "    \n",
    "    MASK_Offset_Horizon_Correction = 50\n",
    "    MASK_Offset_BotLeft = 50\n",
    "    MASK_Offset_BotRight = 50\n",
    "    MASK_Offset_TopLeft = 50\n",
    "    MASK_Offset_TopRight = 50\n",
    "    MASK_Init_Thickness = 300\n",
    "    ignore_mask_color = 255\n",
    "    \n",
    "\n",
    "\n",
    "    ## Base image info and Masking parameter setup\n",
    "    ysize = image.shape[0]\n",
    "    xsize = image.shape[1]\n",
    "    MASK_Offset_Horizon = int(ysize / 2 + MASK_Offset_Horizon_Correction)\n",
    "    MASK_Offset_BottomHorizon = ysize  \n",
    "    \n",
    "    ## Create four sided polygon array for targetted image extraction\n",
    "    Left_Line_Mask = np.array([[(MASK_Offset_BotLeft,MASK_Offset_BottomHorizon),(xsize/2-MASK_Offset_TopLeft,MASK_Offset_Horizon),\n",
    "                        (xsize/2+MASK_Offset_TopRight,MASK_Offset_Horizon),(MASK_Offset_BotLeft+MASK_Init_Thickness,MASK_Offset_BottomHorizon)]],\n",
    "                        dtype=np.int32)\n",
    "    Right_Line_Mask = np.array([[(xsize-MASK_Offset_BotRight-MASK_Init_Thickness,MASK_Offset_BottomHorizon),(xsize/2-MASK_Offset_TopLeft,MASK_Offset_Horizon),\n",
    "                        (xsize/2+MASK_Offset_TopRight,MASK_Offset_Horizon),(xsize - MASK_Offset_BotRight,MASK_Offset_BottomHorizon)]],\n",
    "                        dtype=np.int32)\n",
    "\n",
    "def Update_Mask():\n",
    "    global Left_Line_Mask\n",
    "    global Right_Line_Mask\n",
    "\n",
    "    MASK_Line_Thickness_Half = 10\n",
    "    numbers = [ int(x) for x in Left_Line_Info ]\n",
    "    placeholder = (numbers[0]-MASK_Line_Thickness_Half,numbers[1],\n",
    "                    numbers[0]+MASK_Line_Thickness_Half,numbers[1],\n",
    "                    numbers[2]-MASK_Line_Thickness_Half,numbers[3],\n",
    "                    numbers[2]+MASK_Line_Thickness_Half,numbers[3])\n",
    "    \n",
    "    Left_Line_Mask = np.array([[(placeholder[0],placeholder[1]),(placeholder[2],placeholder[3]),\n",
    "                               (placeholder[4],placeholder[5]),(placeholder[6],placeholder[7])]],\n",
    "                              dtype=np.int32)\n",
    "    \n",
    "    numbers = [ int(x) for x in Right_Line_Info ]\n",
    "    placeholder = (numbers[0]-MASK_Line_Thickness_Half,numbers[1],\n",
    "                numbers[0]+MASK_Line_Thickness_Half,numbers[1],\n",
    "                numbers[2]-MASK_Line_Thickness_Half,numbers[3],\n",
    "                numbers[2]+MASK_Line_Thickness_Half,numbers[3])\n",
    "    \n",
    "    Right_Line_Mask = np.array([[(placeholder[0],placeholder[1]),(placeholder[2],placeholder[3]),\n",
    "                               (placeholder[4],placeholder[5]),(placeholder[6],placeholder[7])]],\n",
    "                              dtype=np.int32)\n",
    "\n",
    "def Init():\n",
    "    # These are all used for rudimentary learning of lane line placement\n",
    "    global MASK_Offset_BottomHorizon\n",
    "    global MASK_Offset_Horizon\n",
    "    global Left_Line_Filter\n",
    "    global Right_Line_Filter\n",
    "    global Left_Line_Info\n",
    "    global Right_Line_Info\n",
    "    global Left_Line_Mask\n",
    "    global Right_Line_Mask\n",
    "    global Count\n",
    "\n",
    "\n",
    "    ## Global End\n",
    "\n",
    "    ## Init ##\n",
    "    Left_Line_Filter = []\n",
    "    Right_Line_Filter = []\n",
    "\n",
    "    Left_Line_Info = []\n",
    "    Right_Line_Info = []\n",
    "    \n",
    "\n",
    "    Left_Line_Mask = []\n",
    "    Right_Line_Mask = []\n",
    "    \n",
    "def Line_Averaging(Right_Line,Left_Line,Count):\n",
    "    global Right_Line_Filter\n",
    "    global Left_Line_Filter\n",
    "    \n",
    "    \n",
    "    if Count <= 6:\n",
    "        Right_Line_Filter = Right_Line\n",
    "        Left_Line_Filter = Left_Line\n",
    "    elif (np.isinf(Right_Line).any()):\n",
    "        print(\"RFail\")\n",
    "    elif(np.isinf(Left_Line).any()):\n",
    "        print(\"LFail\")\n",
    "    elif(not np.any(Right_Line)):\n",
    "        print(\"Rzero\")\n",
    "    elif(not np.any(Left_Line)):\n",
    "        print(\"Lzero\")\n",
    "    else:        \n",
    "        Right_Line_Filter = (statistics.mean([Right_Line[0],Right_Line_Filter[0]]),statistics.mean([Right_Line[1],Right_Line_Filter[1]]))\n",
    "        Left_Line_Filter =  (statistics.mean([Left_Line[0],Left_Line_Filter[0]]),statistics.mean([Left_Line[1],Left_Line_Filter[1]]))\n",
    "\n",
    "    return\n",
    "\n"
   ]
  },
  {
   "cell_type": "code",
   "execution_count": 4,
   "metadata": {
    "collapsed": false
   },
   "outputs": [],
   "source": [
    "def process_image(image):\n",
    "    # NOTE: The output you return should be a color image (3 channel) for processing video below\n",
    "    # TODO: put your pipeline here,\n",
    "    # you should return the final output (image with lines are drawn on lanes)\n",
    "    global MASK_Offset_BottomHorizon\n",
    "    global MASK_Offset_Horizon\n",
    "    global Count\n",
    "    \n",
    "    ## CONSTANTS START\n",
    "    # Gaussian\n",
    "    kernel_size = 5 #Result from homework lesson\n",
    "    # Canny Edge\n",
    "    low_threshold = 25\n",
    "    high_threshold = 75\n",
    "    # Hough\n",
    "    rho = 2\n",
    "    theta = np.pi/180\n",
    "    threshold = 15\n",
    "    min_line_length = 50\n",
    "    max_line_gap = 40\n",
    "    ## CONSTANTS END\n",
    "    ## Count increment\n",
    "    \n",
    "    Count += 1\n",
    "    \n",
    "    ## GRAYSCALE\n",
    "    ## Utilize OpenCV for grayscale conversion\n",
    "    image_gray = grayscale(image)\n",
    "\n",
    "    ## GAUSSIAN SMOOTHING\n",
    "    ## Utilize OpenCV for gaussian smoothing\n",
    "    blur_gray = gaussian_blur(image_gray,kernel_size)\n",
    "\n",
    "    ## CANNY EDGE\n",
    "    ## Utilize OpenCV for Canny Edge Detection\n",
    "    edges = canny(blur_gray,low_threshold,high_threshold)\n",
    "    \n",
    "    ## MASKING\n",
    "    if Count <= 1:\n",
    "        Init()\n",
    "        Init_Mask(edges)\n",
    "    else:\n",
    "        Update_Mask()\n",
    "   \n",
    "        \n",
    "    ## Utilize numpy for init of mask of zero's for targetted image extraction\n",
    "    mask1 = np.zeros_like(edges)\n",
    "    mask2 = np.zeros_like(edges)\n",
    "     \n",
    "    cv2.fillPoly(mask1,Left_Line_Mask,255)\n",
    "    cv2.fillPoly(mask2,Right_Line_Mask,255)\n",
    "    mask3 = cv2.bitwise_or(mask1,mask2)\n",
    "    masked_edges = cv2.bitwise_and(edges,mask3)\n",
    "    line_image = np.copy(image)*0\n",
    "\n",
    "    #hough_out = hough_extrap(masked_edges,rho,theta,threshold,min_line_length,max_line_gap,image)\n",
    "    hough_out = hough_lines(masked_edges,rho,theta,threshold,min_line_length,max_line_gap,Count)\n",
    "\n",
    "    # hough_gray = grayscale(hough_out)\n",
    "    #fl = open('hough_output.csv', 'w')\n",
    "\n",
    "    #writer = csv.writer(fl)\n",
    "    #for values in hough_gray:\n",
    "    #   writer.writerow(values)\n",
    "\n",
    "    #fl.close() \n",
    "\n",
    "\n",
    "    weighted_out = weighted_img (hough_out,image)\n",
    "    \n",
    "    #if (Count > 100):\n",
    "     #   Count = 100\n",
    "    # plt.imshow(weighted_out)\n",
    "    # cv2.imwrite(output_info,weighted_out)\n",
    "    return weighted_out"
   ]
  },
  {
   "cell_type": "markdown",
   "metadata": {},
   "source": [
    "Let's try the one with the solid white lane on the right first ..."
   ]
  },
  {
   "cell_type": "code",
   "execution_count": 10,
   "metadata": {
    "collapsed": false
   },
   "outputs": [
    {
     "name": "stdout",
     "output_type": "stream",
     "text": [
      "[MoviePy] >>>> Building video white.mp4\n",
      "[MoviePy] Writing video white.mp4\n"
     ]
    },
    {
     "name": "stderr",
     "output_type": "stream",
     "text": [
      "100%|███████████████████████████████████████▊| 221/222 [00:04<00:00, 52.48it/s]\n"
     ]
    },
    {
     "name": "stdout",
     "output_type": "stream",
     "text": [
      "[MoviePy] Done.\n",
      "[MoviePy] >>>> Video ready: white.mp4 \n",
      "\n",
      "Wall time: 4.56 s\n"
     ]
    }
   ],
   "source": [
    "global Count\n",
    "\n",
    "Count = 0\n",
    "\n",
    "white_output = 'white.mp4'\n",
    "clip1 = VideoFileClip(\"solidWhiteRight.mp4\")\n",
    "white_clip = clip1.fl_image(process_image) #NOTE: this function expects color images!!\n",
    "%time white_clip.write_videofile(white_output, audio=False)"
   ]
  },
  {
   "cell_type": "markdown",
   "metadata": {},
   "source": [
    "Play the video inline, or if you prefer find the video in your filesystem (should be in the same directory) and play it in your video player of choice."
   ]
  },
  {
   "cell_type": "code",
   "execution_count": 11,
   "metadata": {
    "collapsed": false
   },
   "outputs": [
    {
     "data": {
      "text/html": [
       "\n",
       "<video width=\"960\" height=\"540\" controls>\n",
       "  <source src=\"white.mp4\">\n",
       "</video>\n"
      ],
      "text/plain": [
       "<IPython.core.display.HTML object>"
      ]
     },
     "execution_count": 11,
     "metadata": {},
     "output_type": "execute_result"
    }
   ],
   "source": [
    "HTML(\"\"\"\n",
    "<video width=\"960\" height=\"540\" controls>\n",
    "  <source src=\"{0}\">\n",
    "</video>\n",
    "\"\"\".format(white_output))"
   ]
  },
  {
   "cell_type": "markdown",
   "metadata": {},
   "source": [
    "**At this point, if you were successful you probably have the Hough line segments drawn onto the road, but what about identifying the full extent of the lane and marking it clearly as in the example video (P1_example.mp4)?  Think about defining a line to run the full length of the visible lane based on the line segments you identified with the Hough Transform.  Modify your draw_lines function accordingly and try re-running your pipeline.**"
   ]
  },
  {
   "cell_type": "markdown",
   "metadata": {},
   "source": [
    "Now for the one with the solid yellow lane on the left. This one's more tricky!"
   ]
  },
  {
   "cell_type": "code",
   "execution_count": 12,
   "metadata": {
    "collapsed": false
   },
   "outputs": [
    {
     "name": "stdout",
     "output_type": "stream",
     "text": [
      "[MoviePy] >>>> Building video yellow.mp4\n",
      "[MoviePy] Writing video yellow.mp4\n"
     ]
    },
    {
     "name": "stderr",
     "output_type": "stream",
     "text": [
      "100%|███████████████████████████████████████▉| 681/682 [00:13<00:00, 49.34it/s]\n"
     ]
    },
    {
     "name": "stdout",
     "output_type": "stream",
     "text": [
      "[MoviePy] Done.\n",
      "[MoviePy] >>>> Video ready: yellow.mp4 \n",
      "\n",
      "Wall time: 14.3 s\n"
     ]
    }
   ],
   "source": [
    "global Count\n",
    "\n",
    "Count = 0\n",
    "\n",
    "yellow_output = 'yellow.mp4'\n",
    "clip2 = VideoFileClip('solidYellowLeft.mp4')\n",
    "yellow_clip = clip2.fl_image(process_image)\n",
    "%time yellow_clip.write_videofile(yellow_output, audio=False)"
   ]
  },
  {
   "cell_type": "code",
   "execution_count": 13,
   "metadata": {
    "collapsed": false
   },
   "outputs": [
    {
     "data": {
      "text/html": [
       "\n",
       "<video width=\"960\" height=\"540\" controls>\n",
       "  <source src=\"yellow.mp4\">\n",
       "</video>\n"
      ],
      "text/plain": [
       "<IPython.core.display.HTML object>"
      ]
     },
     "execution_count": 13,
     "metadata": {},
     "output_type": "execute_result"
    }
   ],
   "source": [
    "HTML(\"\"\"\n",
    "<video width=\"960\" height=\"540\" controls>\n",
    "  <source src=\"{0}\">\n",
    "</video>\n",
    "\"\"\".format(yellow_output))"
   ]
  },
  {
   "cell_type": "markdown",
   "metadata": {},
   "source": [
    "## Reflections\n",
    "\n",
    "Congratulations on finding the lane lines!  As the final step in this project, we would like you to share your thoughts on your lane finding pipeline... specifically, how could you imagine making your algorithm better / more robust?  Where will your current algorithm be likely to fail?\n",
    "\n",
    "Please add your thoughts below,  and if you're up for making your pipeline more robust, be sure to scroll down and check out the optional challenge video below!\n"
   ]
  },
  {
   "cell_type": "markdown",
   "metadata": {},
   "source": [
    "## Submission\n",
    "\n",
    "If you're satisfied with your video outputs it's time to submit!  Submit this ipython notebook for review.\n"
   ]
  },
  {
   "cell_type": "markdown",
   "metadata": {
    "collapsed": true
   },
   "source": [
    "## Optional Challenge\n",
    "\n",
    "Try your lane finding pipeline on the video below.  Does it still work?  Can you figure out a way to make it more robust?  If you're up for the challenge, modify your pipeline so it works with this video and submit it along with the rest of your project!"
   ]
  },
  {
   "cell_type": "code",
   "execution_count": 18,
   "metadata": {
    "collapsed": false,
    "scrolled": false
   },
   "outputs": [
    {
     "name": "stdout",
     "output_type": "stream",
     "text": [
      "[MoviePy] >>>> Building video extra.mp4\n",
      "[MoviePy] Writing video extra.mp4\n"
     ]
    },
    {
     "name": "stderr",
     "output_type": "stream",
     "text": [
      "  6%|██▌                                      | 16/251 [00:00<00:07, 33.07it/s]"
     ]
    },
    {
     "name": "stdout",
     "output_type": "stream",
     "text": [
      "Lzero\n"
     ]
    },
    {
     "name": "stderr",
     "output_type": "stream",
     "text": [
      "\r",
      "  8%|███▎                                     | 20/251 [00:00<00:07, 32.52it/s]"
     ]
    },
    {
     "name": "stdout",
     "output_type": "stream",
     "text": [
      "Lzero\n",
      "Lzero\n"
     ]
    },
    {
     "name": "stderr",
     "output_type": "stream",
     "text": [
      "\r",
      "  9%|███▊                                     | 23/251 [00:00<00:07, 30.39it/s]"
     ]
    },
    {
     "name": "stdout",
     "output_type": "stream",
     "text": [
      "Lzero\n",
      "Lzero\n"
     ]
    },
    {
     "name": "stderr",
     "output_type": "stream",
     "text": [
      " 18%|███████▎                                 | 45/251 [00:01<00:06, 31.04it/s]"
     ]
    },
    {
     "name": "stdout",
     "output_type": "stream",
     "text": [
      "Lzero\n",
      "Lzero\n"
     ]
    },
    {
     "name": "stderr",
     "output_type": "stream",
     "text": [
      " 23%|█████████▍                               | 58/251 [00:01<00:06, 27.87it/s]"
     ]
    },
    {
     "name": "stdout",
     "output_type": "stream",
     "text": [
      "Lzero\n"
     ]
    },
    {
     "name": "stderr",
     "output_type": "stream",
     "text": [
      " 53%|█████████████████████▏                  | 133/251 [00:04<00:04, 24.73it/s]"
     ]
    },
    {
     "name": "stdout",
     "output_type": "stream",
     "text": [
      "Lzero\n"
     ]
    },
    {
     "name": "stderr",
     "output_type": "stream",
     "text": [
      " 79%|███████████████████████████████▋        | 199/251 [00:07<00:02, 25.58it/s]"
     ]
    },
    {
     "name": "stdout",
     "output_type": "stream",
     "text": [
      "Lzero\n"
     ]
    },
    {
     "name": "stderr",
     "output_type": "stream",
     "text": [
      " 82%|████████████████████████████████▋       | 205/251 [00:07<00:01, 24.55it/s]"
     ]
    },
    {
     "name": "stdout",
     "output_type": "stream",
     "text": [
      "Lzero\n"
     ]
    },
    {
     "name": "stderr",
     "output_type": "stream",
     "text": [
      " 86%|██████████████████████████████████▌     | 217/251 [00:08<00:01, 24.40it/s]"
     ]
    },
    {
     "name": "stdout",
     "output_type": "stream",
     "text": [
      "Lzero\n"
     ]
    },
    {
     "name": "stderr",
     "output_type": "stream",
     "text": [
      "\r",
      " 88%|███████████████████████████████████     | 220/251 [00:08<00:01, 23.88it/s]"
     ]
    },
    {
     "name": "stdout",
     "output_type": "stream",
     "text": [
      "Lzero\n"
     ]
    },
    {
     "name": "stderr",
     "output_type": "stream",
     "text": [
      "\r",
      " 89%|███████████████████████████████████▌    | 223/251 [00:08<00:01, 23.56it/s]"
     ]
    },
    {
     "name": "stdout",
     "output_type": "stream",
     "text": [
      "Lzero\n",
      "Lzero\n"
     ]
    },
    {
     "name": "stderr",
     "output_type": "stream",
     "text": [
      "\r",
      " 90%|████████████████████████████████████    | 226/251 [00:08<00:01, 22.42it/s]"
     ]
    },
    {
     "name": "stdout",
     "output_type": "stream",
     "text": [
      "Lzero\n",
      "Lzero\n",
      "Lzero\n"
     ]
    },
    {
     "name": "stderr",
     "output_type": "stream",
     "text": [
      "\r",
      " 91%|████████████████████████████████████▍   | 229/251 [00:08<00:00, 22.10it/s]"
     ]
    },
    {
     "name": "stdout",
     "output_type": "stream",
     "text": [
      "Lzero\n",
      "Lzero\n"
     ]
    },
    {
     "name": "stderr",
     "output_type": "stream",
     "text": [
      "\r",
      " 92%|████████████████████████████████████▉   | 232/251 [00:08<00:00, 21.69it/s]"
     ]
    },
    {
     "name": "stdout",
     "output_type": "stream",
     "text": [
      "Lzero\n"
     ]
    },
    {
     "name": "stderr",
     "output_type": "stream",
     "text": [
      " 95%|█████████████████████████████████████▉  | 238/251 [00:09<00:00, 20.70it/s]"
     ]
    },
    {
     "name": "stdout",
     "output_type": "stream",
     "text": [
      "Lzero\n",
      "Lzero\n"
     ]
    },
    {
     "name": "stderr",
     "output_type": "stream",
     "text": [
      "\r",
      " 96%|██████████████████████████████████████▍ | 241/251 [00:09<00:00, 20.28it/s]"
     ]
    },
    {
     "name": "stdout",
     "output_type": "stream",
     "text": [
      "Lzero\n"
     ]
    },
    {
     "name": "stderr",
     "output_type": "stream",
     "text": [
      "\r",
      " 97%|██████████████████████████████████████▉ | 244/251 [00:09<00:00, 20.49it/s]"
     ]
    },
    {
     "name": "stdout",
     "output_type": "stream",
     "text": [
      "Lzero\n"
     ]
    },
    {
     "name": "stderr",
     "output_type": "stream",
     "text": [
      "\r",
      " 98%|███████████████████████████████████████▎| 247/251 [00:09<00:00, 20.86it/s]"
     ]
    },
    {
     "name": "stdout",
     "output_type": "stream",
     "text": [
      "Lzero\n"
     ]
    },
    {
     "name": "stderr",
     "output_type": "stream",
     "text": [
      "100%|████████████████████████████████████████| 251/251 [00:09<00:00, 25.27it/s]\n"
     ]
    },
    {
     "name": "stdout",
     "output_type": "stream",
     "text": [
      "[MoviePy] Done.\n",
      "[MoviePy] >>>> Video ready: extra.mp4 \n",
      "\n",
      "Wall time: 10.9 s\n"
     ]
    }
   ],
   "source": [
    "global Count\n",
    "\n",
    "Count = 0\n",
    "\n",
    "challenge_output = 'extra.mp4'\n",
    "clip2 = VideoFileClip('challenge.mp4')\n",
    "challenge_clip = clip2.fl_image(process_image)\n",
    "%time challenge_clip.write_videofile(challenge_output, audio=False)"
   ]
  },
  {
   "cell_type": "code",
   "execution_count": 19,
   "metadata": {
    "collapsed": false,
    "scrolled": true
   },
   "outputs": [
    {
     "data": {
      "text/html": [
       "\n",
       "<video width=\"960\" height=\"540\" controls>\n",
       "  <source src=\"extra.mp4\">\n",
       "</video>\n"
      ],
      "text/plain": [
       "<IPython.core.display.HTML object>"
      ]
     },
     "execution_count": 19,
     "metadata": {},
     "output_type": "execute_result"
    }
   ],
   "source": [
    "HTML(\"\"\"\n",
    "<video width=\"960\" height=\"540\" controls>\n",
    "  <source src=\"{0}\">\n",
    "</video>\n",
    "\"\"\".format(challenge_output))"
   ]
  },
  {
   "cell_type": "code",
   "execution_count": null,
   "metadata": {
    "collapsed": true
   },
   "outputs": [],
   "source": []
  }
 ],
 "metadata": {
  "anaconda-cloud": {},
  "kernelspec": {
   "display_name": "Python 3",
   "language": "python",
   "name": "python3"
  },
  "language_info": {
   "codemirror_mode": {
    "name": "ipython",
    "version": 3
   },
   "file_extension": ".py",
   "mimetype": "text/x-python",
   "name": "python",
   "nbconvert_exporter": "python",
   "pygments_lexer": "ipython3",
   "version": "3.5.2"
  },
  "widgets": {
   "state": {},
   "version": "1.1.2"
  }
 },
 "nbformat": 4,
 "nbformat_minor": 0
}
